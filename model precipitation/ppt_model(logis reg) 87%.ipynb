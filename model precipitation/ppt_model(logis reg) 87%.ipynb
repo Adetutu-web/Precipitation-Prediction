{
 "cells": [
  {
   "cell_type": "code",
   "execution_count": 1,
   "id": "08489846",
   "metadata": {},
   "outputs": [],
   "source": [
    "import numpy as np\n",
    "import pandas as pd\n",
    "import matplotlib.pyplot as plt\n",
    "from sklearn.utils import resample,shuffle\n",
    "\n",
    "\n",
    "from sklearn.preprocessing import LabelEncoder\n",
    "from sklearn import preprocessing\n",
    "\n",
    "from sklearn.feature_selection import chi2"
   ]
  },
  {
   "cell_type": "code",
   "execution_count": 2,
   "id": "6587ce61",
   "metadata": {},
   "outputs": [
    {
     "name": "stdout",
     "output_type": "stream",
     "text": [
      "<class 'pandas.core.frame.DataFrame'>\n",
      "RangeIndex: 1827 entries, 0 to 1826\n",
      "Data columns (total 16 columns):\n",
      " #   Column   Non-Null Count  Dtype  \n",
      "---  ------   --------------  -----  \n",
      " 0   STATION  1827 non-null   object \n",
      " 1   NAME     1827 non-null   object \n",
      " 2   DATE     1827 non-null   object \n",
      " 3   AWND     1823 non-null   float64\n",
      " 4   PGTM     62 non-null     float64\n",
      " 5   PRCP     1827 non-null   float64\n",
      " 6   TAVG     0 non-null      float64\n",
      " 7   TMAX     1827 non-null   int64  \n",
      " 8   TMIN     1827 non-null   int64  \n",
      " 9   WDF2     1822 non-null   float64\n",
      " 10  WDF5     1809 non-null   float64\n",
      " 11  WSF2     1823 non-null   float64\n",
      " 12  WSF5     1809 non-null   float64\n",
      " 13  WT01     551 non-null    float64\n",
      " 14  WT02     39 non-null     float64\n",
      " 15  WT08     861 non-null    float64\n",
      "dtypes: float64(11), int64(2), object(3)\n",
      "memory usage: 228.5+ KB\n"
     ]
    }
   ],
   "source": [
    "data1 = pd.read_csv(\"dataset.csv\")\n",
    "data1.info()"
   ]
  },
  {
   "cell_type": "code",
   "execution_count": 3,
   "id": "aaf9416e",
   "metadata": {},
   "outputs": [],
   "source": [
    "# replacing PRCV value with 1 for example having PRCP value more than 0 \n",
    "filt = data1[\"PRCP\"]>0\n",
    "\n",
    "data1.loc[filt,\"PRCP\"] = 1"
   ]
  },
  {
   "cell_type": "code",
   "execution_count": 4,
   "id": "87ddda80",
   "metadata": {},
   "outputs": [
    {
     "data": {
      "text/plain": [
       "167"
      ]
     },
     "execution_count": 4,
     "metadata": {},
     "output_type": "execute_result"
    }
   ],
   "source": [
    "(data1[\"PRCP\"]>0).sum()"
   ]
  },
  {
   "cell_type": "code",
   "execution_count": 5,
   "id": "aee26cb5",
   "metadata": {},
   "outputs": [
    {
     "data": {
      "text/plain": [
       "TAVG       100.000000\n",
       "WT02        97.865353\n",
       "PGTM        96.606459\n",
       "WT01        69.841270\n",
       "WT08        52.873563\n",
       "WDF5         0.985222\n",
       "WSF5         0.985222\n",
       "WDF2         0.273673\n",
       "AWND         0.218938\n",
       "WSF2         0.218938\n",
       "STATION      0.000000\n",
       "NAME         0.000000\n",
       "DATE         0.000000\n",
       "PRCP         0.000000\n",
       "TMAX         0.000000\n",
       "TMIN         0.000000\n",
       "dtype: float64"
      ]
     },
     "execution_count": 5,
     "metadata": {},
     "output_type": "execute_result"
    }
   ],
   "source": [
    "### checking percentage null values (column wise) \n",
    "data1.isnull().sum(axis = 0).sort_values(ascending = False)/len(data1)*100"
   ]
  },
  {
   "cell_type": "markdown",
   "id": "2cde8436",
   "metadata": {},
   "source": [
    "### here 3 columns are having more than 95% entries missing so we're dropping these columns\n"
   ]
  },
  {
   "cell_type": "code",
   "execution_count": 6,
   "id": "0283a8d5",
   "metadata": {},
   "outputs": [],
   "source": [
    "\n",
    "d = (data1.isnull().sum(axis = 0).sort_values(ascending = False)/len(data1)*100 >95) ## series of T/F "
   ]
  },
  {
   "cell_type": "code",
   "execution_count": 7,
   "id": "4ecfcabe",
   "metadata": {},
   "outputs": [
    {
     "data": {
      "text/plain": [
       "Index(['TAVG', 'WT02', 'PGTM'], dtype='object')"
      ]
     },
     "execution_count": 7,
     "metadata": {},
     "output_type": "execute_result"
    }
   ],
   "source": [
    "d.index[d.values] # masking over series over by its value(T/F) "
   ]
  },
  {
   "cell_type": "markdown",
   "id": "337d6cd8",
   "metadata": {},
   "source": [
    "### 3 columns have been removed"
   ]
  },
  {
   "cell_type": "code",
   "execution_count": 8,
   "id": "ac36888a",
   "metadata": {},
   "outputs": [],
   "source": [
    "data1.drop(columns = d.index[d.values],inplace = True)"
   ]
  },
  {
   "cell_type": "code",
   "execution_count": 9,
   "id": "c234ee7b",
   "metadata": {},
   "outputs": [
    {
     "data": {
      "text/plain": [
       "WT01       69.841270\n",
       "WT08       52.873563\n",
       "WDF5        0.985222\n",
       "WSF5        0.985222\n",
       "WDF2        0.273673\n",
       "AWND        0.218938\n",
       "WSF2        0.218938\n",
       "STATION     0.000000\n",
       "NAME        0.000000\n",
       "DATE        0.000000\n",
       "PRCP        0.000000\n",
       "TMAX        0.000000\n",
       "TMIN        0.000000\n",
       "dtype: float64"
      ]
     },
     "execution_count": 9,
     "metadata": {},
     "output_type": "execute_result"
    }
   ],
   "source": [
    "### checking percentage null values column wise \n",
    "data1.isnull().sum(axis = 0).sort_values(ascending = False)/len(data1)*100"
   ]
  },
  {
   "cell_type": "code",
   "execution_count": 10,
   "id": "9a6087e6",
   "metadata": {},
   "outputs": [
    {
     "data": {
      "text/html": [
       "<div>\n",
       "<style scoped>\n",
       "    .dataframe tbody tr th:only-of-type {\n",
       "        vertical-align: middle;\n",
       "    }\n",
       "\n",
       "    .dataframe tbody tr th {\n",
       "        vertical-align: top;\n",
       "    }\n",
       "\n",
       "    .dataframe thead th {\n",
       "        text-align: right;\n",
       "    }\n",
       "</style>\n",
       "<table border=\"1\" class=\"dataframe\">\n",
       "  <thead>\n",
       "    <tr style=\"text-align: right;\">\n",
       "      <th></th>\n",
       "      <th>STATION</th>\n",
       "      <th>NAME</th>\n",
       "      <th>DATE</th>\n",
       "      <th>AWND</th>\n",
       "      <th>PRCP</th>\n",
       "      <th>TMAX</th>\n",
       "      <th>TMIN</th>\n",
       "      <th>WDF2</th>\n",
       "      <th>WDF5</th>\n",
       "      <th>WSF2</th>\n",
       "      <th>WSF5</th>\n",
       "      <th>WT01</th>\n",
       "      <th>WT08</th>\n",
       "    </tr>\n",
       "  </thead>\n",
       "  <tbody>\n",
       "    <tr>\n",
       "      <th>0</th>\n",
       "      <td>USW00093134</td>\n",
       "      <td>LOS ANGELES DOWNTOWN USC, CA US</td>\n",
       "      <td>01-01-2016</td>\n",
       "      <td>2.46</td>\n",
       "      <td>0.0</td>\n",
       "      <td>64</td>\n",
       "      <td>43</td>\n",
       "      <td>10.0</td>\n",
       "      <td>30.0</td>\n",
       "      <td>8.1</td>\n",
       "      <td>11.0</td>\n",
       "      <td>NaN</td>\n",
       "      <td>1.0</td>\n",
       "    </tr>\n",
       "    <tr>\n",
       "      <th>1</th>\n",
       "      <td>USW00093134</td>\n",
       "      <td>LOS ANGELES DOWNTOWN USC, CA US</td>\n",
       "      <td>02-01-2016</td>\n",
       "      <td>2.01</td>\n",
       "      <td>0.0</td>\n",
       "      <td>65</td>\n",
       "      <td>47</td>\n",
       "      <td>270.0</td>\n",
       "      <td>30.0</td>\n",
       "      <td>6.0</td>\n",
       "      <td>8.9</td>\n",
       "      <td>NaN</td>\n",
       "      <td>NaN</td>\n",
       "    </tr>\n",
       "    <tr>\n",
       "      <th>2</th>\n",
       "      <td>USW00093134</td>\n",
       "      <td>LOS ANGELES DOWNTOWN USC, CA US</td>\n",
       "      <td>03-01-2016</td>\n",
       "      <td>0.67</td>\n",
       "      <td>0.0</td>\n",
       "      <td>62</td>\n",
       "      <td>44</td>\n",
       "      <td>150.0</td>\n",
       "      <td>150.0</td>\n",
       "      <td>10.1</td>\n",
       "      <td>14.1</td>\n",
       "      <td>NaN</td>\n",
       "      <td>NaN</td>\n",
       "    </tr>\n",
       "    <tr>\n",
       "      <th>3</th>\n",
       "      <td>USW00093134</td>\n",
       "      <td>LOS ANGELES DOWNTOWN USC, CA US</td>\n",
       "      <td>04-01-2016</td>\n",
       "      <td>1.34</td>\n",
       "      <td>1.0</td>\n",
       "      <td>69</td>\n",
       "      <td>55</td>\n",
       "      <td>270.0</td>\n",
       "      <td>280.0</td>\n",
       "      <td>8.1</td>\n",
       "      <td>14.1</td>\n",
       "      <td>NaN</td>\n",
       "      <td>NaN</td>\n",
       "    </tr>\n",
       "    <tr>\n",
       "      <th>4</th>\n",
       "      <td>USW00093134</td>\n",
       "      <td>LOS ANGELES DOWNTOWN USC, CA US</td>\n",
       "      <td>05-01-2016</td>\n",
       "      <td>2.46</td>\n",
       "      <td>1.0</td>\n",
       "      <td>59</td>\n",
       "      <td>49</td>\n",
       "      <td>140.0</td>\n",
       "      <td>140.0</td>\n",
       "      <td>10.1</td>\n",
       "      <td>16.1</td>\n",
       "      <td>1.0</td>\n",
       "      <td>NaN</td>\n",
       "    </tr>\n",
       "    <tr>\n",
       "      <th>...</th>\n",
       "      <td>...</td>\n",
       "      <td>...</td>\n",
       "      <td>...</td>\n",
       "      <td>...</td>\n",
       "      <td>...</td>\n",
       "      <td>...</td>\n",
       "      <td>...</td>\n",
       "      <td>...</td>\n",
       "      <td>...</td>\n",
       "      <td>...</td>\n",
       "      <td>...</td>\n",
       "      <td>...</td>\n",
       "      <td>...</td>\n",
       "    </tr>\n",
       "    <tr>\n",
       "      <th>1822</th>\n",
       "      <td>USW00093134</td>\n",
       "      <td>LOS ANGELES DOWNTOWN USC, CA US</td>\n",
       "      <td>27-12-2020</td>\n",
       "      <td>1.12</td>\n",
       "      <td>1.0</td>\n",
       "      <td>66</td>\n",
       "      <td>55</td>\n",
       "      <td>270.0</td>\n",
       "      <td>260.0</td>\n",
       "      <td>8.9</td>\n",
       "      <td>18.1</td>\n",
       "      <td>1.0</td>\n",
       "      <td>1.0</td>\n",
       "    </tr>\n",
       "    <tr>\n",
       "      <th>1823</th>\n",
       "      <td>USW00093134</td>\n",
       "      <td>LOS ANGELES DOWNTOWN USC, CA US</td>\n",
       "      <td>28-12-2020</td>\n",
       "      <td>4.70</td>\n",
       "      <td>1.0</td>\n",
       "      <td>56</td>\n",
       "      <td>47</td>\n",
       "      <td>90.0</td>\n",
       "      <td>260.0</td>\n",
       "      <td>14.1</td>\n",
       "      <td>21.0</td>\n",
       "      <td>1.0</td>\n",
       "      <td>NaN</td>\n",
       "    </tr>\n",
       "    <tr>\n",
       "      <th>1824</th>\n",
       "      <td>USW00093134</td>\n",
       "      <td>LOS ANGELES DOWNTOWN USC, CA US</td>\n",
       "      <td>29-12-2020</td>\n",
       "      <td>1.57</td>\n",
       "      <td>0.0</td>\n",
       "      <td>65</td>\n",
       "      <td>42</td>\n",
       "      <td>340.0</td>\n",
       "      <td>360.0</td>\n",
       "      <td>10.1</td>\n",
       "      <td>18.1</td>\n",
       "      <td>NaN</td>\n",
       "      <td>NaN</td>\n",
       "    </tr>\n",
       "    <tr>\n",
       "      <th>1825</th>\n",
       "      <td>USW00093134</td>\n",
       "      <td>LOS ANGELES DOWNTOWN USC, CA US</td>\n",
       "      <td>30-12-2020</td>\n",
       "      <td>0.45</td>\n",
       "      <td>0.0</td>\n",
       "      <td>69</td>\n",
       "      <td>44</td>\n",
       "      <td>260.0</td>\n",
       "      <td>260.0</td>\n",
       "      <td>6.9</td>\n",
       "      <td>12.1</td>\n",
       "      <td>NaN</td>\n",
       "      <td>NaN</td>\n",
       "    </tr>\n",
       "    <tr>\n",
       "      <th>1826</th>\n",
       "      <td>USW00093134</td>\n",
       "      <td>LOS ANGELES DOWNTOWN USC, CA US</td>\n",
       "      <td>31-12-2020</td>\n",
       "      <td>1.57</td>\n",
       "      <td>0.0</td>\n",
       "      <td>70</td>\n",
       "      <td>43</td>\n",
       "      <td>350.0</td>\n",
       "      <td>350.0</td>\n",
       "      <td>12.1</td>\n",
       "      <td>19.9</td>\n",
       "      <td>NaN</td>\n",
       "      <td>NaN</td>\n",
       "    </tr>\n",
       "  </tbody>\n",
       "</table>\n",
       "<p>1827 rows × 13 columns</p>\n",
       "</div>"
      ],
      "text/plain": [
       "          STATION                             NAME        DATE  AWND  PRCP  \\\n",
       "0     USW00093134  LOS ANGELES DOWNTOWN USC, CA US  01-01-2016  2.46   0.0   \n",
       "1     USW00093134  LOS ANGELES DOWNTOWN USC, CA US  02-01-2016  2.01   0.0   \n",
       "2     USW00093134  LOS ANGELES DOWNTOWN USC, CA US  03-01-2016  0.67   0.0   \n",
       "3     USW00093134  LOS ANGELES DOWNTOWN USC, CA US  04-01-2016  1.34   1.0   \n",
       "4     USW00093134  LOS ANGELES DOWNTOWN USC, CA US  05-01-2016  2.46   1.0   \n",
       "...           ...                              ...         ...   ...   ...   \n",
       "1822  USW00093134  LOS ANGELES DOWNTOWN USC, CA US  27-12-2020  1.12   1.0   \n",
       "1823  USW00093134  LOS ANGELES DOWNTOWN USC, CA US  28-12-2020  4.70   1.0   \n",
       "1824  USW00093134  LOS ANGELES DOWNTOWN USC, CA US  29-12-2020  1.57   0.0   \n",
       "1825  USW00093134  LOS ANGELES DOWNTOWN USC, CA US  30-12-2020  0.45   0.0   \n",
       "1826  USW00093134  LOS ANGELES DOWNTOWN USC, CA US  31-12-2020  1.57   0.0   \n",
       "\n",
       "      TMAX  TMIN   WDF2   WDF5  WSF2  WSF5  WT01  WT08  \n",
       "0       64    43   10.0   30.0   8.1  11.0   NaN   1.0  \n",
       "1       65    47  270.0   30.0   6.0   8.9   NaN   NaN  \n",
       "2       62    44  150.0  150.0  10.1  14.1   NaN   NaN  \n",
       "3       69    55  270.0  280.0   8.1  14.1   NaN   NaN  \n",
       "4       59    49  140.0  140.0  10.1  16.1   1.0   NaN  \n",
       "...    ...   ...    ...    ...   ...   ...   ...   ...  \n",
       "1822    66    55  270.0  260.0   8.9  18.1   1.0   1.0  \n",
       "1823    56    47   90.0  260.0  14.1  21.0   1.0   NaN  \n",
       "1824    65    42  340.0  360.0  10.1  18.1   NaN   NaN  \n",
       "1825    69    44  260.0  260.0   6.9  12.1   NaN   NaN  \n",
       "1826    70    43  350.0  350.0  12.1  19.9   NaN   NaN  \n",
       "\n",
       "[1827 rows x 13 columns]"
      ]
     },
     "execution_count": 10,
     "metadata": {},
     "output_type": "execute_result"
    }
   ],
   "source": [
    "data1"
   ]
  },
  {
   "cell_type": "code",
   "execution_count": 11,
   "id": "e9056735",
   "metadata": {},
   "outputs": [],
   "source": [
    "d1 = data1[data1[\"PRCP\"]==1]\n",
    "d0 = data1[data1[\"PRCP\"]==0]"
   ]
  },
  {
   "cell_type": "code",
   "execution_count": 12,
   "id": "14e50a0a",
   "metadata": {},
   "outputs": [
    {
     "data": {
      "text/plain": [
       "(167, 13)"
      ]
     },
     "execution_count": 12,
     "metadata": {},
     "output_type": "execute_result"
    }
   ],
   "source": [
    "d1.shape #class 1 example(Eg. with output 1) \n"
   ]
  },
  {
   "cell_type": "code",
   "execution_count": 13,
   "id": "cdc1e931",
   "metadata": {},
   "outputs": [
    {
     "data": {
      "text/plain": [
       "(1660, 13)"
      ]
     },
     "execution_count": 13,
     "metadata": {},
     "output_type": "execute_result"
    }
   ],
   "source": [
    "d0.shape #class 2 example(Eg. with output 0)"
   ]
  },
  {
   "cell_type": "code",
   "execution_count": 14,
   "id": "0903a8d8",
   "metadata": {},
   "outputs": [
    {
     "data": {
      "text/plain": [
       "WT08       115\n",
       "WT01        35\n",
       "WDF5         2\n",
       "WSF5         2\n",
       "STATION      0\n",
       "NAME         0\n",
       "DATE         0\n",
       "AWND         0\n",
       "PRCP         0\n",
       "TMAX         0\n",
       "TMIN         0\n",
       "WDF2         0\n",
       "WSF2         0\n",
       "dtype: int64"
      ]
     },
     "execution_count": 14,
     "metadata": {},
     "output_type": "execute_result"
    }
   ],
   "source": [
    "d1.isnull().sum().sort_values(ascending = False) #computing column wise empty cells"
   ]
  },
  {
   "cell_type": "markdown",
   "id": "35ef8949",
   "metadata": {},
   "source": [
    "### now up sampling the class 1"
   ]
  },
  {
   "cell_type": "code",
   "execution_count": 15,
   "id": "52ce3588",
   "metadata": {},
   "outputs": [],
   "source": [
    "d1_upsampled = resample(d1,random_state = 32,n_samples=2*len(d0),replace = True)\n",
    "d0 = resample(d0,random_state = 32,n_samples=2*len(d0),replace = True)\n"
   ]
  },
  {
   "cell_type": "code",
   "execution_count": 16,
   "id": "ebf2340c",
   "metadata": {},
   "outputs": [
    {
     "data": {
      "text/plain": [
       "(3320, 13)"
      ]
     },
     "execution_count": 16,
     "metadata": {},
     "output_type": "execute_result"
    }
   ],
   "source": [
    "d1_upsampled.shape"
   ]
  },
  {
   "cell_type": "code",
   "execution_count": 17,
   "id": "14744446",
   "metadata": {},
   "outputs": [
    {
     "data": {
      "text/html": [
       "<div>\n",
       "<style scoped>\n",
       "    .dataframe tbody tr th:only-of-type {\n",
       "        vertical-align: middle;\n",
       "    }\n",
       "\n",
       "    .dataframe tbody tr th {\n",
       "        vertical-align: top;\n",
       "    }\n",
       "\n",
       "    .dataframe thead th {\n",
       "        text-align: right;\n",
       "    }\n",
       "</style>\n",
       "<table border=\"1\" class=\"dataframe\">\n",
       "  <thead>\n",
       "    <tr style=\"text-align: right;\">\n",
       "      <th></th>\n",
       "      <th>STATION</th>\n",
       "      <th>NAME</th>\n",
       "      <th>DATE</th>\n",
       "      <th>AWND</th>\n",
       "      <th>PRCP</th>\n",
       "      <th>TMAX</th>\n",
       "      <th>TMIN</th>\n",
       "      <th>WDF2</th>\n",
       "      <th>WDF5</th>\n",
       "      <th>WSF2</th>\n",
       "      <th>WSF5</th>\n",
       "      <th>WT01</th>\n",
       "      <th>WT08</th>\n",
       "    </tr>\n",
       "  </thead>\n",
       "  <tbody>\n",
       "    <tr>\n",
       "      <th>809</th>\n",
       "      <td>USW00093134</td>\n",
       "      <td>LOS ANGELES DOWNTOWN USC, CA US</td>\n",
       "      <td>20-03-2018</td>\n",
       "      <td>1.57</td>\n",
       "      <td>0.0</td>\n",
       "      <td>72</td>\n",
       "      <td>56</td>\n",
       "      <td>270.0</td>\n",
       "      <td>280.0</td>\n",
       "      <td>8.1</td>\n",
       "      <td>14.1</td>\n",
       "      <td>NaN</td>\n",
       "      <td>NaN</td>\n",
       "    </tr>\n",
       "    <tr>\n",
       "      <th>1742</th>\n",
       "      <td>USW00093134</td>\n",
       "      <td>LOS ANGELES DOWNTOWN USC, CA US</td>\n",
       "      <td>08-10-2020</td>\n",
       "      <td>1.34</td>\n",
       "      <td>0.0</td>\n",
       "      <td>77</td>\n",
       "      <td>65</td>\n",
       "      <td>270.0</td>\n",
       "      <td>270.0</td>\n",
       "      <td>8.9</td>\n",
       "      <td>15.0</td>\n",
       "      <td>NaN</td>\n",
       "      <td>1.0</td>\n",
       "    </tr>\n",
       "    <tr>\n",
       "      <th>1474</th>\n",
       "      <td>USW00093134</td>\n",
       "      <td>LOS ANGELES DOWNTOWN USC, CA US</td>\n",
       "      <td>14-01-2020</td>\n",
       "      <td>0.45</td>\n",
       "      <td>0.0</td>\n",
       "      <td>65</td>\n",
       "      <td>48</td>\n",
       "      <td>270.0</td>\n",
       "      <td>270.0</td>\n",
       "      <td>8.1</td>\n",
       "      <td>12.1</td>\n",
       "      <td>NaN</td>\n",
       "      <td>1.0</td>\n",
       "    </tr>\n",
       "    <tr>\n",
       "      <th>980</th>\n",
       "      <td>USW00093134</td>\n",
       "      <td>LOS ANGELES DOWNTOWN USC, CA US</td>\n",
       "      <td>07-09-2018</td>\n",
       "      <td>1.12</td>\n",
       "      <td>0.0</td>\n",
       "      <td>82</td>\n",
       "      <td>65</td>\n",
       "      <td>260.0</td>\n",
       "      <td>260.0</td>\n",
       "      <td>8.1</td>\n",
       "      <td>14.1</td>\n",
       "      <td>1.0</td>\n",
       "      <td>1.0</td>\n",
       "    </tr>\n",
       "    <tr>\n",
       "      <th>106</th>\n",
       "      <td>USW00093134</td>\n",
       "      <td>LOS ANGELES DOWNTOWN USC, CA US</td>\n",
       "      <td>16-04-2016</td>\n",
       "      <td>0.89</td>\n",
       "      <td>0.0</td>\n",
       "      <td>82</td>\n",
       "      <td>58</td>\n",
       "      <td>270.0</td>\n",
       "      <td>270.0</td>\n",
       "      <td>6.9</td>\n",
       "      <td>14.1</td>\n",
       "      <td>NaN</td>\n",
       "      <td>NaN</td>\n",
       "    </tr>\n",
       "    <tr>\n",
       "      <th>...</th>\n",
       "      <td>...</td>\n",
       "      <td>...</td>\n",
       "      <td>...</td>\n",
       "      <td>...</td>\n",
       "      <td>...</td>\n",
       "      <td>...</td>\n",
       "      <td>...</td>\n",
       "      <td>...</td>\n",
       "      <td>...</td>\n",
       "      <td>...</td>\n",
       "      <td>...</td>\n",
       "      <td>...</td>\n",
       "      <td>...</td>\n",
       "    </tr>\n",
       "    <tr>\n",
       "      <th>1715</th>\n",
       "      <td>USW00093134</td>\n",
       "      <td>LOS ANGELES DOWNTOWN USC, CA US</td>\n",
       "      <td>11-09-2020</td>\n",
       "      <td>1.12</td>\n",
       "      <td>0.0</td>\n",
       "      <td>84</td>\n",
       "      <td>62</td>\n",
       "      <td>270.0</td>\n",
       "      <td>270.0</td>\n",
       "      <td>8.1</td>\n",
       "      <td>13.0</td>\n",
       "      <td>1.0</td>\n",
       "      <td>1.0</td>\n",
       "    </tr>\n",
       "    <tr>\n",
       "      <th>323</th>\n",
       "      <td>USW00093134</td>\n",
       "      <td>LOS ANGELES DOWNTOWN USC, CA US</td>\n",
       "      <td>19-11-2016</td>\n",
       "      <td>0.89</td>\n",
       "      <td>0.0</td>\n",
       "      <td>75</td>\n",
       "      <td>49</td>\n",
       "      <td>280.0</td>\n",
       "      <td>270.0</td>\n",
       "      <td>8.1</td>\n",
       "      <td>13.0</td>\n",
       "      <td>NaN</td>\n",
       "      <td>NaN</td>\n",
       "    </tr>\n",
       "    <tr>\n",
       "      <th>1646</th>\n",
       "      <td>USW00093134</td>\n",
       "      <td>LOS ANGELES DOWNTOWN USC, CA US</td>\n",
       "      <td>04-07-2020</td>\n",
       "      <td>2.24</td>\n",
       "      <td>0.0</td>\n",
       "      <td>85</td>\n",
       "      <td>64</td>\n",
       "      <td>260.0</td>\n",
       "      <td>270.0</td>\n",
       "      <td>10.1</td>\n",
       "      <td>16.1</td>\n",
       "      <td>NaN</td>\n",
       "      <td>1.0</td>\n",
       "    </tr>\n",
       "    <tr>\n",
       "      <th>1698</th>\n",
       "      <td>USW00093134</td>\n",
       "      <td>LOS ANGELES DOWNTOWN USC, CA US</td>\n",
       "      <td>25-08-2020</td>\n",
       "      <td>1.34</td>\n",
       "      <td>0.0</td>\n",
       "      <td>86</td>\n",
       "      <td>69</td>\n",
       "      <td>270.0</td>\n",
       "      <td>260.0</td>\n",
       "      <td>10.1</td>\n",
       "      <td>16.1</td>\n",
       "      <td>1.0</td>\n",
       "      <td>1.0</td>\n",
       "    </tr>\n",
       "    <tr>\n",
       "      <th>852</th>\n",
       "      <td>USW00093134</td>\n",
       "      <td>LOS ANGELES DOWNTOWN USC, CA US</td>\n",
       "      <td>02-05-2018</td>\n",
       "      <td>1.34</td>\n",
       "      <td>0.0</td>\n",
       "      <td>65</td>\n",
       "      <td>54</td>\n",
       "      <td>270.0</td>\n",
       "      <td>270.0</td>\n",
       "      <td>8.9</td>\n",
       "      <td>17.0</td>\n",
       "      <td>1.0</td>\n",
       "      <td>NaN</td>\n",
       "    </tr>\n",
       "  </tbody>\n",
       "</table>\n",
       "<p>3320 rows × 13 columns</p>\n",
       "</div>"
      ],
      "text/plain": [
       "          STATION                             NAME        DATE  AWND  PRCP  \\\n",
       "809   USW00093134  LOS ANGELES DOWNTOWN USC, CA US  20-03-2018  1.57   0.0   \n",
       "1742  USW00093134  LOS ANGELES DOWNTOWN USC, CA US  08-10-2020  1.34   0.0   \n",
       "1474  USW00093134  LOS ANGELES DOWNTOWN USC, CA US  14-01-2020  0.45   0.0   \n",
       "980   USW00093134  LOS ANGELES DOWNTOWN USC, CA US  07-09-2018  1.12   0.0   \n",
       "106   USW00093134  LOS ANGELES DOWNTOWN USC, CA US  16-04-2016  0.89   0.0   \n",
       "...           ...                              ...         ...   ...   ...   \n",
       "1715  USW00093134  LOS ANGELES DOWNTOWN USC, CA US  11-09-2020  1.12   0.0   \n",
       "323   USW00093134  LOS ANGELES DOWNTOWN USC, CA US  19-11-2016  0.89   0.0   \n",
       "1646  USW00093134  LOS ANGELES DOWNTOWN USC, CA US  04-07-2020  2.24   0.0   \n",
       "1698  USW00093134  LOS ANGELES DOWNTOWN USC, CA US  25-08-2020  1.34   0.0   \n",
       "852   USW00093134  LOS ANGELES DOWNTOWN USC, CA US  02-05-2018  1.34   0.0   \n",
       "\n",
       "      TMAX  TMIN   WDF2   WDF5  WSF2  WSF5  WT01  WT08  \n",
       "809     72    56  270.0  280.0   8.1  14.1   NaN   NaN  \n",
       "1742    77    65  270.0  270.0   8.9  15.0   NaN   1.0  \n",
       "1474    65    48  270.0  270.0   8.1  12.1   NaN   1.0  \n",
       "980     82    65  260.0  260.0   8.1  14.1   1.0   1.0  \n",
       "106     82    58  270.0  270.0   6.9  14.1   NaN   NaN  \n",
       "...    ...   ...    ...    ...   ...   ...   ...   ...  \n",
       "1715    84    62  270.0  270.0   8.1  13.0   1.0   1.0  \n",
       "323     75    49  280.0  270.0   8.1  13.0   NaN   NaN  \n",
       "1646    85    64  260.0  270.0  10.1  16.1   NaN   1.0  \n",
       "1698    86    69  270.0  260.0  10.1  16.1   1.0   1.0  \n",
       "852     65    54  270.0  270.0   8.9  17.0   1.0   NaN  \n",
       "\n",
       "[3320 rows x 13 columns]"
      ]
     },
     "execution_count": 17,
     "metadata": {},
     "output_type": "execute_result"
    }
   ],
   "source": [
    "d0.shape\n",
    "d0"
   ]
  },
  {
   "cell_type": "code",
   "execution_count": 18,
   "id": "75c37855",
   "metadata": {},
   "outputs": [],
   "source": [
    "\n",
    "data = d0.append(d1_upsampled,ignore_index=True)"
   ]
  },
  {
   "cell_type": "code",
   "execution_count": 19,
   "id": "fab89326",
   "metadata": {},
   "outputs": [
    {
     "data": {
      "text/html": [
       "<div>\n",
       "<style scoped>\n",
       "    .dataframe tbody tr th:only-of-type {\n",
       "        vertical-align: middle;\n",
       "    }\n",
       "\n",
       "    .dataframe tbody tr th {\n",
       "        vertical-align: top;\n",
       "    }\n",
       "\n",
       "    .dataframe thead th {\n",
       "        text-align: right;\n",
       "    }\n",
       "</style>\n",
       "<table border=\"1\" class=\"dataframe\">\n",
       "  <thead>\n",
       "    <tr style=\"text-align: right;\">\n",
       "      <th></th>\n",
       "      <th>STATION</th>\n",
       "      <th>NAME</th>\n",
       "      <th>DATE</th>\n",
       "      <th>AWND</th>\n",
       "      <th>PRCP</th>\n",
       "      <th>TMAX</th>\n",
       "      <th>TMIN</th>\n",
       "      <th>WDF2</th>\n",
       "      <th>WDF5</th>\n",
       "      <th>WSF2</th>\n",
       "      <th>WSF5</th>\n",
       "      <th>WT01</th>\n",
       "      <th>WT08</th>\n",
       "    </tr>\n",
       "  </thead>\n",
       "  <tbody>\n",
       "    <tr>\n",
       "      <th>0</th>\n",
       "      <td>USW00093134</td>\n",
       "      <td>LOS ANGELES DOWNTOWN USC, CA US</td>\n",
       "      <td>20-03-2018</td>\n",
       "      <td>1.57</td>\n",
       "      <td>0.0</td>\n",
       "      <td>72</td>\n",
       "      <td>56</td>\n",
       "      <td>270.0</td>\n",
       "      <td>280.0</td>\n",
       "      <td>8.1</td>\n",
       "      <td>14.1</td>\n",
       "      <td>NaN</td>\n",
       "      <td>NaN</td>\n",
       "    </tr>\n",
       "    <tr>\n",
       "      <th>1</th>\n",
       "      <td>USW00093134</td>\n",
       "      <td>LOS ANGELES DOWNTOWN USC, CA US</td>\n",
       "      <td>08-10-2020</td>\n",
       "      <td>1.34</td>\n",
       "      <td>0.0</td>\n",
       "      <td>77</td>\n",
       "      <td>65</td>\n",
       "      <td>270.0</td>\n",
       "      <td>270.0</td>\n",
       "      <td>8.9</td>\n",
       "      <td>15.0</td>\n",
       "      <td>NaN</td>\n",
       "      <td>1.0</td>\n",
       "    </tr>\n",
       "    <tr>\n",
       "      <th>2</th>\n",
       "      <td>USW00093134</td>\n",
       "      <td>LOS ANGELES DOWNTOWN USC, CA US</td>\n",
       "      <td>14-01-2020</td>\n",
       "      <td>0.45</td>\n",
       "      <td>0.0</td>\n",
       "      <td>65</td>\n",
       "      <td>48</td>\n",
       "      <td>270.0</td>\n",
       "      <td>270.0</td>\n",
       "      <td>8.1</td>\n",
       "      <td>12.1</td>\n",
       "      <td>NaN</td>\n",
       "      <td>1.0</td>\n",
       "    </tr>\n",
       "    <tr>\n",
       "      <th>3</th>\n",
       "      <td>USW00093134</td>\n",
       "      <td>LOS ANGELES DOWNTOWN USC, CA US</td>\n",
       "      <td>07-09-2018</td>\n",
       "      <td>1.12</td>\n",
       "      <td>0.0</td>\n",
       "      <td>82</td>\n",
       "      <td>65</td>\n",
       "      <td>260.0</td>\n",
       "      <td>260.0</td>\n",
       "      <td>8.1</td>\n",
       "      <td>14.1</td>\n",
       "      <td>1.0</td>\n",
       "      <td>1.0</td>\n",
       "    </tr>\n",
       "    <tr>\n",
       "      <th>4</th>\n",
       "      <td>USW00093134</td>\n",
       "      <td>LOS ANGELES DOWNTOWN USC, CA US</td>\n",
       "      <td>16-04-2016</td>\n",
       "      <td>0.89</td>\n",
       "      <td>0.0</td>\n",
       "      <td>82</td>\n",
       "      <td>58</td>\n",
       "      <td>270.0</td>\n",
       "      <td>270.0</td>\n",
       "      <td>6.9</td>\n",
       "      <td>14.1</td>\n",
       "      <td>NaN</td>\n",
       "      <td>NaN</td>\n",
       "    </tr>\n",
       "    <tr>\n",
       "      <th>...</th>\n",
       "      <td>...</td>\n",
       "      <td>...</td>\n",
       "      <td>...</td>\n",
       "      <td>...</td>\n",
       "      <td>...</td>\n",
       "      <td>...</td>\n",
       "      <td>...</td>\n",
       "      <td>...</td>\n",
       "      <td>...</td>\n",
       "      <td>...</td>\n",
       "      <td>...</td>\n",
       "      <td>...</td>\n",
       "      <td>...</td>\n",
       "    </tr>\n",
       "    <tr>\n",
       "      <th>6635</th>\n",
       "      <td>USW00093134</td>\n",
       "      <td>LOS ANGELES DOWNTOWN USC, CA US</td>\n",
       "      <td>21-03-2017</td>\n",
       "      <td>2.68</td>\n",
       "      <td>1.0</td>\n",
       "      <td>67</td>\n",
       "      <td>57</td>\n",
       "      <td>130.0</td>\n",
       "      <td>80.0</td>\n",
       "      <td>8.1</td>\n",
       "      <td>12.1</td>\n",
       "      <td>1.0</td>\n",
       "      <td>NaN</td>\n",
       "    </tr>\n",
       "    <tr>\n",
       "      <th>6636</th>\n",
       "      <td>USW00093134</td>\n",
       "      <td>LOS ANGELES DOWNTOWN USC, CA US</td>\n",
       "      <td>04-01-2017</td>\n",
       "      <td>1.12</td>\n",
       "      <td>1.0</td>\n",
       "      <td>63</td>\n",
       "      <td>47</td>\n",
       "      <td>90.0</td>\n",
       "      <td>100.0</td>\n",
       "      <td>8.1</td>\n",
       "      <td>13.0</td>\n",
       "      <td>1.0</td>\n",
       "      <td>1.0</td>\n",
       "    </tr>\n",
       "    <tr>\n",
       "      <th>6637</th>\n",
       "      <td>USW00093134</td>\n",
       "      <td>LOS ANGELES DOWNTOWN USC, CA US</td>\n",
       "      <td>07-04-2020</td>\n",
       "      <td>2.01</td>\n",
       "      <td>1.0</td>\n",
       "      <td>67</td>\n",
       "      <td>53</td>\n",
       "      <td>270.0</td>\n",
       "      <td>270.0</td>\n",
       "      <td>8.9</td>\n",
       "      <td>15.0</td>\n",
       "      <td>1.0</td>\n",
       "      <td>NaN</td>\n",
       "    </tr>\n",
       "    <tr>\n",
       "      <th>6638</th>\n",
       "      <td>USW00093134</td>\n",
       "      <td>LOS ANGELES DOWNTOWN USC, CA US</td>\n",
       "      <td>13-03-2020</td>\n",
       "      <td>0.89</td>\n",
       "      <td>1.0</td>\n",
       "      <td>60</td>\n",
       "      <td>55</td>\n",
       "      <td>100.0</td>\n",
       "      <td>90.0</td>\n",
       "      <td>6.9</td>\n",
       "      <td>8.9</td>\n",
       "      <td>1.0</td>\n",
       "      <td>1.0</td>\n",
       "    </tr>\n",
       "    <tr>\n",
       "      <th>6639</th>\n",
       "      <td>USW00093134</td>\n",
       "      <td>LOS ANGELES DOWNTOWN USC, CA US</td>\n",
       "      <td>04-02-2019</td>\n",
       "      <td>2.24</td>\n",
       "      <td>1.0</td>\n",
       "      <td>60</td>\n",
       "      <td>51</td>\n",
       "      <td>260.0</td>\n",
       "      <td>270.0</td>\n",
       "      <td>8.1</td>\n",
       "      <td>15.0</td>\n",
       "      <td>1.0</td>\n",
       "      <td>NaN</td>\n",
       "    </tr>\n",
       "  </tbody>\n",
       "</table>\n",
       "<p>6640 rows × 13 columns</p>\n",
       "</div>"
      ],
      "text/plain": [
       "          STATION                             NAME        DATE  AWND  PRCP  \\\n",
       "0     USW00093134  LOS ANGELES DOWNTOWN USC, CA US  20-03-2018  1.57   0.0   \n",
       "1     USW00093134  LOS ANGELES DOWNTOWN USC, CA US  08-10-2020  1.34   0.0   \n",
       "2     USW00093134  LOS ANGELES DOWNTOWN USC, CA US  14-01-2020  0.45   0.0   \n",
       "3     USW00093134  LOS ANGELES DOWNTOWN USC, CA US  07-09-2018  1.12   0.0   \n",
       "4     USW00093134  LOS ANGELES DOWNTOWN USC, CA US  16-04-2016  0.89   0.0   \n",
       "...           ...                              ...         ...   ...   ...   \n",
       "6635  USW00093134  LOS ANGELES DOWNTOWN USC, CA US  21-03-2017  2.68   1.0   \n",
       "6636  USW00093134  LOS ANGELES DOWNTOWN USC, CA US  04-01-2017  1.12   1.0   \n",
       "6637  USW00093134  LOS ANGELES DOWNTOWN USC, CA US  07-04-2020  2.01   1.0   \n",
       "6638  USW00093134  LOS ANGELES DOWNTOWN USC, CA US  13-03-2020  0.89   1.0   \n",
       "6639  USW00093134  LOS ANGELES DOWNTOWN USC, CA US  04-02-2019  2.24   1.0   \n",
       "\n",
       "      TMAX  TMIN   WDF2   WDF5  WSF2  WSF5  WT01  WT08  \n",
       "0       72    56  270.0  280.0   8.1  14.1   NaN   NaN  \n",
       "1       77    65  270.0  270.0   8.9  15.0   NaN   1.0  \n",
       "2       65    48  270.0  270.0   8.1  12.1   NaN   1.0  \n",
       "3       82    65  260.0  260.0   8.1  14.1   1.0   1.0  \n",
       "4       82    58  270.0  270.0   6.9  14.1   NaN   NaN  \n",
       "...    ...   ...    ...    ...   ...   ...   ...   ...  \n",
       "6635    67    57  130.0   80.0   8.1  12.1   1.0   NaN  \n",
       "6636    63    47   90.0  100.0   8.1  13.0   1.0   1.0  \n",
       "6637    67    53  270.0  270.0   8.9  15.0   1.0   NaN  \n",
       "6638    60    55  100.0   90.0   6.9   8.9   1.0   1.0  \n",
       "6639    60    51  260.0  270.0   8.1  15.0   1.0   NaN  \n",
       "\n",
       "[6640 rows x 13 columns]"
      ]
     },
     "execution_count": 19,
     "metadata": {},
     "output_type": "execute_result"
    }
   ],
   "source": [
    "data"
   ]
  },
  {
   "cell_type": "markdown",
   "id": "ebf29f52",
   "metadata": {},
   "source": [
    "### further cleaning of data \n"
   ]
  },
  {
   "cell_type": "code",
   "execution_count": 20,
   "id": "f86bc9fa",
   "metadata": {},
   "outputs": [
    {
     "data": {
      "text/plain": [
       "WT08       4024\n",
       "WT01       3160\n",
       "WDF5         67\n",
       "WSF5         67\n",
       "WDF2         14\n",
       "WSF2         11\n",
       "AWND          8\n",
       "STATION       0\n",
       "NAME          0\n",
       "DATE          0\n",
       "PRCP          0\n",
       "TMAX          0\n",
       "TMIN          0\n",
       "dtype: int64"
      ]
     },
     "execution_count": 20,
     "metadata": {},
     "output_type": "execute_result"
    }
   ],
   "source": [
    "data.isnull().sum().sort_values(ascending = False) # analyzing WT08 and WT01 "
   ]
  },
  {
   "cell_type": "code",
   "execution_count": 21,
   "id": "994b59aa",
   "metadata": {},
   "outputs": [
    {
     "data": {
      "text/html": [
       "<div>\n",
       "<style scoped>\n",
       "    .dataframe tbody tr th:only-of-type {\n",
       "        vertical-align: middle;\n",
       "    }\n",
       "\n",
       "    .dataframe tbody tr th {\n",
       "        vertical-align: top;\n",
       "    }\n",
       "\n",
       "    .dataframe thead th {\n",
       "        text-align: right;\n",
       "    }\n",
       "</style>\n",
       "<table border=\"1\" class=\"dataframe\">\n",
       "  <thead>\n",
       "    <tr style=\"text-align: right;\">\n",
       "      <th></th>\n",
       "      <th>WT08</th>\n",
       "      <th>WT01</th>\n",
       "    </tr>\n",
       "  </thead>\n",
       "  <tbody>\n",
       "    <tr>\n",
       "      <th>count</th>\n",
       "      <td>2616.0</td>\n",
       "      <td>3480.0</td>\n",
       "    </tr>\n",
       "    <tr>\n",
       "      <th>mean</th>\n",
       "      <td>1.0</td>\n",
       "      <td>1.0</td>\n",
       "    </tr>\n",
       "    <tr>\n",
       "      <th>std</th>\n",
       "      <td>0.0</td>\n",
       "      <td>0.0</td>\n",
       "    </tr>\n",
       "    <tr>\n",
       "      <th>min</th>\n",
       "      <td>1.0</td>\n",
       "      <td>1.0</td>\n",
       "    </tr>\n",
       "    <tr>\n",
       "      <th>25%</th>\n",
       "      <td>1.0</td>\n",
       "      <td>1.0</td>\n",
       "    </tr>\n",
       "    <tr>\n",
       "      <th>50%</th>\n",
       "      <td>1.0</td>\n",
       "      <td>1.0</td>\n",
       "    </tr>\n",
       "    <tr>\n",
       "      <th>75%</th>\n",
       "      <td>1.0</td>\n",
       "      <td>1.0</td>\n",
       "    </tr>\n",
       "    <tr>\n",
       "      <th>max</th>\n",
       "      <td>1.0</td>\n",
       "      <td>1.0</td>\n",
       "    </tr>\n",
       "  </tbody>\n",
       "</table>\n",
       "</div>"
      ],
      "text/plain": [
       "         WT08    WT01\n",
       "count  2616.0  3480.0\n",
       "mean      1.0     1.0\n",
       "std       0.0     0.0\n",
       "min       1.0     1.0\n",
       "25%       1.0     1.0\n",
       "50%       1.0     1.0\n",
       "75%       1.0     1.0\n",
       "max       1.0     1.0"
      ]
     },
     "execution_count": 21,
     "metadata": {},
     "output_type": "execute_result"
    }
   ],
   "source": [
    "data.loc[:,[\"WT08\",\"WT01\"]].describe() # dropping column, as filling 1 at NaN position wouldn't help in prediction  "
   ]
  },
  {
   "cell_type": "code",
   "execution_count": 22,
   "id": "6da3ad2a",
   "metadata": {},
   "outputs": [],
   "source": [
    "data.drop(columns= [\"WT08\",\"WT01\"],inplace = True)\n"
   ]
  },
  {
   "cell_type": "code",
   "execution_count": 23,
   "id": "49d904a5",
   "metadata": {},
   "outputs": [
    {
     "data": {
      "text/plain": [
       "WDF5       67\n",
       "WSF5       67\n",
       "WDF2       14\n",
       "WSF2       11\n",
       "AWND        8\n",
       "STATION     0\n",
       "NAME        0\n",
       "DATE        0\n",
       "PRCP        0\n",
       "TMAX        0\n",
       "TMIN        0\n",
       "dtype: int64"
      ]
     },
     "execution_count": 23,
     "metadata": {},
     "output_type": "execute_result"
    }
   ],
   "source": [
    " data.isnull().sum().sort_values(ascending = False) # analyzing WT08 and WT01 "
   ]
  },
  {
   "cell_type": "code",
   "execution_count": 24,
   "id": "f47a420e",
   "metadata": {},
   "outputs": [
    {
     "data": {
      "text/html": [
       "<div>\n",
       "<style scoped>\n",
       "    .dataframe tbody tr th:only-of-type {\n",
       "        vertical-align: middle;\n",
       "    }\n",
       "\n",
       "    .dataframe tbody tr th {\n",
       "        vertical-align: top;\n",
       "    }\n",
       "\n",
       "    .dataframe thead th {\n",
       "        text-align: right;\n",
       "    }\n",
       "</style>\n",
       "<table border=\"1\" class=\"dataframe\">\n",
       "  <thead>\n",
       "    <tr style=\"text-align: right;\">\n",
       "      <th></th>\n",
       "      <th>WDF5</th>\n",
       "      <th>WSF5</th>\n",
       "    </tr>\n",
       "  </thead>\n",
       "  <tbody>\n",
       "    <tr>\n",
       "      <th>0</th>\n",
       "      <td>270.0</td>\n",
       "      <td>14.1</td>\n",
       "    </tr>\n",
       "  </tbody>\n",
       "</table>\n",
       "</div>"
      ],
      "text/plain": [
       "    WDF5  WSF5\n",
       "0  270.0  14.1"
      ]
     },
     "execution_count": 24,
     "metadata": {},
     "output_type": "execute_result"
    }
   ],
   "source": [
    "data.loc[:,[\"WDF5\",'WSF5']].mode()"
   ]
  },
  {
   "cell_type": "code",
   "execution_count": 25,
   "id": "3d64a8e1",
   "metadata": {},
   "outputs": [],
   "source": [
    "nan_WDF5 = (data[\"WDF5\"].isnull()).index[(data[\"WDF5\"].isnull()).values] #index of all NaN having celles in collumn WDF5\n",
    "nan_WSF5 = (data[\"WSF5\"].isnull()).index[(data[\"WSF5\"].isnull()).values] #index of all NaN having celles in collumn WSF5"
   ]
  },
  {
   "cell_type": "code",
   "execution_count": 26,
   "id": "a3396db8",
   "metadata": {},
   "outputs": [],
   "source": [
    "data.loc[nan_WDF5,\"WDF5\"] = [data.loc[:,\"WDF5\"].mode()] #replacing by mode\n",
    "data.loc[nan_WSF5,\"WSF5\"] = [data.loc[:,\"WSF5\"].mode()] #replacing by mode"
   ]
  },
  {
   "cell_type": "code",
   "execution_count": 27,
   "id": "259471f0",
   "metadata": {},
   "outputs": [
    {
     "data": {
      "text/plain": [
       "WDF2       14\n",
       "WSF2       11\n",
       "AWND        8\n",
       "STATION     0\n",
       "NAME        0\n",
       "DATE        0\n",
       "PRCP        0\n",
       "TMAX        0\n",
       "TMIN        0\n",
       "WDF5        0\n",
       "WSF5        0\n",
       "dtype: int64"
      ]
     },
     "execution_count": 27,
     "metadata": {},
     "output_type": "execute_result"
    }
   ],
   "source": [
    " data.isnull().sum().sort_values(ascending = False)"
   ]
  },
  {
   "cell_type": "code",
   "execution_count": 28,
   "id": "8a85417c",
   "metadata": {},
   "outputs": [
    {
     "data": {
      "text/html": [
       "<div>\n",
       "<style scoped>\n",
       "    .dataframe tbody tr th:only-of-type {\n",
       "        vertical-align: middle;\n",
       "    }\n",
       "\n",
       "    .dataframe tbody tr th {\n",
       "        vertical-align: top;\n",
       "    }\n",
       "\n",
       "    .dataframe thead th {\n",
       "        text-align: right;\n",
       "    }\n",
       "</style>\n",
       "<table border=\"1\" class=\"dataframe\">\n",
       "  <thead>\n",
       "    <tr style=\"text-align: right;\">\n",
       "      <th></th>\n",
       "      <th>WDF2</th>\n",
       "      <th>AWND</th>\n",
       "      <th>WSF2</th>\n",
       "    </tr>\n",
       "  </thead>\n",
       "  <tbody>\n",
       "    <tr>\n",
       "      <th>0</th>\n",
       "      <td>270.0</td>\n",
       "      <td>1.12</td>\n",
       "      <td>8.9</td>\n",
       "    </tr>\n",
       "  </tbody>\n",
       "</table>\n",
       "</div>"
      ],
      "text/plain": [
       "    WDF2  AWND  WSF2\n",
       "0  270.0  1.12   8.9"
      ]
     },
     "execution_count": 28,
     "metadata": {},
     "output_type": "execute_result"
    }
   ],
   "source": [
    "data.loc[:,[\"WDF2\",\"AWND\",\"WSF2\"]].mode()"
   ]
  },
  {
   "cell_type": "code",
   "execution_count": 29,
   "id": "7dd878c1",
   "metadata": {},
   "outputs": [],
   "source": [
    "nan_WDF2 = (data[\"WDF2\"].isnull()).index[(data[\"WDF2\"].isnull()).values]  ## filling mode value at missing cells\n",
    "data.loc[nan_WDF2,\"WDF2\"] = [data.loc[:,\"WDF2\"].mode()]\n",
    "\n",
    "\n",
    "nan_AWND = (data[\"AWND\"].isnull()).index[(data[\"AWND\"].isnull()).values]## filling mode value at missing cells\n",
    "data.loc[nan_AWND,\"AWND\"] = [data.loc[:,\"AWND\"].mode()]\n",
    "\n",
    "\n",
    "nan_WSF2 = (data[\"WSF2\"].isnull()).index[(data[\"WSF2\"].isnull()).values]## filling mode value at missing cells\n",
    "data.loc[nan_WSF5,\"WSF2\"] = [data.loc[:,\"WSF2\"].mode()]"
   ]
  },
  {
   "cell_type": "code",
   "execution_count": 30,
   "id": "54831cc9",
   "metadata": {},
   "outputs": [
    {
     "data": {
      "text/plain": [
       "STATION    0\n",
       "NAME       0\n",
       "DATE       0\n",
       "AWND       0\n",
       "PRCP       0\n",
       "TMAX       0\n",
       "TMIN       0\n",
       "WDF2       0\n",
       "WDF5       0\n",
       "WSF2       0\n",
       "WSF5       0\n",
       "dtype: int64"
      ]
     },
     "execution_count": 30,
     "metadata": {},
     "output_type": "execute_result"
    }
   ],
   "source": [
    " data.isnull().sum().sort_values(ascending = False)"
   ]
  },
  {
   "cell_type": "markdown",
   "id": "8608ea44",
   "metadata": {},
   "source": [
    "#### Now our data is free of missing values"
   ]
  },
  {
   "cell_type": "markdown",
   "id": "74888d51",
   "metadata": {},
   "source": [
    "### feature selection for predictions by chi-square method (we will select the feature with high chi square value and low p value, that implies output depends on that feature more) "
   ]
  },
  {
   "cell_type": "code",
   "execution_count": 31,
   "id": "dbafdb0c",
   "metadata": {},
   "outputs": [],
   "source": [
    "y_train1 = data[\"PRCP\"]\n",
    "data.drop(columns= [\"PRCP\",\"STATION\",\"NAME\",\"DATE\"],inplace = True)"
   ]
  },
  {
   "cell_type": "markdown",
   "id": "ca7f8c87",
   "metadata": {},
   "source": [
    "#### above we have dropped STATION and NAME columns also as it is same for all data(p value = 0)"
   ]
  },
  {
   "cell_type": "markdown",
   "id": "06b663b5",
   "metadata": {},
   "source": [
    "### label encodig data for chi-square implementation and for further ML implementation "
   ]
  },
  {
   "cell_type": "code",
   "execution_count": 32,
   "id": "9f03f45f",
   "metadata": {},
   "outputs": [],
   "source": [
    "label_encoder = LabelEncoder()\n",
    "#data[\"STATION\"] = label_encoder.fit_transform(data[\"STATION\"])\n",
    "#data[\"NAME\"] = label_encoder.fit_transform(data[\"NAME\"])\n",
    "#data[\"DATE\"] = label_encoder.fit_transform(data[\"DATE\"])"
   ]
  },
  {
   "cell_type": "code",
   "execution_count": 33,
   "id": "5b81a11e",
   "metadata": {},
   "outputs": [
    {
     "data": {
      "text/html": [
       "<div>\n",
       "<style scoped>\n",
       "    .dataframe tbody tr th:only-of-type {\n",
       "        vertical-align: middle;\n",
       "    }\n",
       "\n",
       "    .dataframe tbody tr th {\n",
       "        vertical-align: top;\n",
       "    }\n",
       "\n",
       "    .dataframe thead th {\n",
       "        text-align: right;\n",
       "    }\n",
       "</style>\n",
       "<table border=\"1\" class=\"dataframe\">\n",
       "  <thead>\n",
       "    <tr style=\"text-align: right;\">\n",
       "      <th></th>\n",
       "      <th>AWND</th>\n",
       "      <th>TMAX</th>\n",
       "      <th>TMIN</th>\n",
       "      <th>WDF2</th>\n",
       "      <th>WDF5</th>\n",
       "      <th>WSF2</th>\n",
       "      <th>WSF5</th>\n",
       "    </tr>\n",
       "  </thead>\n",
       "  <tbody>\n",
       "    <tr>\n",
       "      <th>0</th>\n",
       "      <td>1.57</td>\n",
       "      <td>72</td>\n",
       "      <td>56</td>\n",
       "      <td>270.0</td>\n",
       "      <td>280.0</td>\n",
       "      <td>8.1</td>\n",
       "      <td>14.1</td>\n",
       "    </tr>\n",
       "    <tr>\n",
       "      <th>1</th>\n",
       "      <td>1.34</td>\n",
       "      <td>77</td>\n",
       "      <td>65</td>\n",
       "      <td>270.0</td>\n",
       "      <td>270.0</td>\n",
       "      <td>8.9</td>\n",
       "      <td>15.0</td>\n",
       "    </tr>\n",
       "    <tr>\n",
       "      <th>2</th>\n",
       "      <td>0.45</td>\n",
       "      <td>65</td>\n",
       "      <td>48</td>\n",
       "      <td>270.0</td>\n",
       "      <td>270.0</td>\n",
       "      <td>8.1</td>\n",
       "      <td>12.1</td>\n",
       "    </tr>\n",
       "    <tr>\n",
       "      <th>3</th>\n",
       "      <td>1.12</td>\n",
       "      <td>82</td>\n",
       "      <td>65</td>\n",
       "      <td>260.0</td>\n",
       "      <td>260.0</td>\n",
       "      <td>8.1</td>\n",
       "      <td>14.1</td>\n",
       "    </tr>\n",
       "    <tr>\n",
       "      <th>4</th>\n",
       "      <td>0.89</td>\n",
       "      <td>82</td>\n",
       "      <td>58</td>\n",
       "      <td>270.0</td>\n",
       "      <td>270.0</td>\n",
       "      <td>6.9</td>\n",
       "      <td>14.1</td>\n",
       "    </tr>\n",
       "    <tr>\n",
       "      <th>...</th>\n",
       "      <td>...</td>\n",
       "      <td>...</td>\n",
       "      <td>...</td>\n",
       "      <td>...</td>\n",
       "      <td>...</td>\n",
       "      <td>...</td>\n",
       "      <td>...</td>\n",
       "    </tr>\n",
       "    <tr>\n",
       "      <th>6635</th>\n",
       "      <td>2.68</td>\n",
       "      <td>67</td>\n",
       "      <td>57</td>\n",
       "      <td>130.0</td>\n",
       "      <td>80.0</td>\n",
       "      <td>8.1</td>\n",
       "      <td>12.1</td>\n",
       "    </tr>\n",
       "    <tr>\n",
       "      <th>6636</th>\n",
       "      <td>1.12</td>\n",
       "      <td>63</td>\n",
       "      <td>47</td>\n",
       "      <td>90.0</td>\n",
       "      <td>100.0</td>\n",
       "      <td>8.1</td>\n",
       "      <td>13.0</td>\n",
       "    </tr>\n",
       "    <tr>\n",
       "      <th>6637</th>\n",
       "      <td>2.01</td>\n",
       "      <td>67</td>\n",
       "      <td>53</td>\n",
       "      <td>270.0</td>\n",
       "      <td>270.0</td>\n",
       "      <td>8.9</td>\n",
       "      <td>15.0</td>\n",
       "    </tr>\n",
       "    <tr>\n",
       "      <th>6638</th>\n",
       "      <td>0.89</td>\n",
       "      <td>60</td>\n",
       "      <td>55</td>\n",
       "      <td>100.0</td>\n",
       "      <td>90.0</td>\n",
       "      <td>6.9</td>\n",
       "      <td>8.9</td>\n",
       "    </tr>\n",
       "    <tr>\n",
       "      <th>6639</th>\n",
       "      <td>2.24</td>\n",
       "      <td>60</td>\n",
       "      <td>51</td>\n",
       "      <td>260.0</td>\n",
       "      <td>270.0</td>\n",
       "      <td>8.1</td>\n",
       "      <td>15.0</td>\n",
       "    </tr>\n",
       "  </tbody>\n",
       "</table>\n",
       "<p>6640 rows × 7 columns</p>\n",
       "</div>"
      ],
      "text/plain": [
       "      AWND  TMAX  TMIN   WDF2   WDF5  WSF2  WSF5\n",
       "0     1.57    72    56  270.0  280.0   8.1  14.1\n",
       "1     1.34    77    65  270.0  270.0   8.9  15.0\n",
       "2     0.45    65    48  270.0  270.0   8.1  12.1\n",
       "3     1.12    82    65  260.0  260.0   8.1  14.1\n",
       "4     0.89    82    58  270.0  270.0   6.9  14.1\n",
       "...    ...   ...   ...    ...    ...   ...   ...\n",
       "6635  2.68    67    57  130.0   80.0   8.1  12.1\n",
       "6636  1.12    63    47   90.0  100.0   8.1  13.0\n",
       "6637  2.01    67    53  270.0  270.0   8.9  15.0\n",
       "6638  0.89    60    55  100.0   90.0   6.9   8.9\n",
       "6639  2.24    60    51  260.0  270.0   8.1  15.0\n",
       "\n",
       "[6640 rows x 7 columns]"
      ]
     },
     "execution_count": 33,
     "metadata": {},
     "output_type": "execute_result"
    }
   ],
   "source": [
    "data"
   ]
  },
  {
   "cell_type": "markdown",
   "id": "5c7c5e80",
   "metadata": {},
   "source": [
    "#### visual of data after laber encoding"
   ]
  },
  {
   "cell_type": "code",
   "execution_count": 34,
   "id": "c2130889",
   "metadata": {},
   "outputs": [],
   "source": [
    "chi_sq_val = chi2(data,y_train1)"
   ]
  },
  {
   "cell_type": "code",
   "execution_count": 35,
   "id": "a5b43884",
   "metadata": {},
   "outputs": [
    {
     "data": {
      "text/plain": [
       "(array([  727.48409654,  3711.94026344,   566.54986226, 26393.11159826,\n",
       "        22301.35263463,   387.12862562,   928.06284896]),\n",
       " array([3.15695918e-160, 0.00000000e+000, 3.16095516e-125, 0.00000000e+000,\n",
       "        0.00000000e+000, 3.49128089e-086, 7.78749145e-204]))"
      ]
     },
     "execution_count": 35,
     "metadata": {},
     "output_type": "execute_result"
    }
   ],
   "source": [
    "chi_sq_val"
   ]
  },
  {
   "cell_type": "markdown",
   "id": "fbfc2045",
   "metadata": {},
   "source": [
    "#### 2nd array shows p value"
   ]
  },
  {
   "cell_type": "code",
   "execution_count": 36,
   "id": "427d8aa1",
   "metadata": {},
   "outputs": [],
   "source": [
    "p_values = pd.Series(chi_sq_val[1],index = data.columns)\n",
    "p_values.sort_values(ascending = False , inplace = True)"
   ]
  },
  {
   "cell_type": "code",
   "execution_count": 37,
   "id": "0703ab75",
   "metadata": {},
   "outputs": [
    {
     "data": {
      "text/plain": [
       "WSF2     3.491281e-86\n",
       "TMIN    3.160955e-125\n",
       "AWND    3.156959e-160\n",
       "WSF5    7.787491e-204\n",
       "TMAX     0.000000e+00\n",
       "WDF2     0.000000e+00\n",
       "WDF5     0.000000e+00\n",
       "dtype: float64"
      ]
     },
     "execution_count": 37,
     "metadata": {},
     "output_type": "execute_result"
    }
   ],
   "source": [
    "p_values"
   ]
  },
  {
   "cell_type": "code",
   "execution_count": 38,
   "id": "2e60255e",
   "metadata": {},
   "outputs": [
    {
     "data": {
      "text/plain": [
       "<AxesSubplot:>"
      ]
     },
     "execution_count": 38,
     "metadata": {},
     "output_type": "execute_result"
    },
    {
     "data": {
      "image/png": "[encoded data removed]",
      "text/plain": [
       "<Figure size 432x288 with 1 Axes>"
      ]
     },
     "metadata": {
      "needs_background": "light"
     },
     "output_type": "display_data"
    }
   ],
   "source": [
    "p_values.plot.bar()"
   ]
  },
  {
   "cell_type": "markdown",
   "id": "e241ee04",
   "metadata": {},
   "source": [
    "#### now we are dropping WSF2 feature "
   ]
  },
  {
   "cell_type": "code",
   "execution_count": 39,
   "id": "939ed653",
   "metadata": {},
   "outputs": [],
   "source": [
    "data.drop(columns= [\"WSF2\"],inplace = True)"
   ]
  },
  {
   "cell_type": "markdown",
   "id": "aa6d257c",
   "metadata": {},
   "source": [
    "## Training model on 7 features "
   ]
  },
  {
   "cell_type": "code",
   "execution_count": 40,
   "id": "724cfb9d",
   "metadata": {},
   "outputs": [],
   "source": [
    "# data is input feature df (training)\n",
    "# y_train is output(training)\n",
    "#x_test,y_test "
   ]
  },
  {
   "cell_type": "code",
   "execution_count": 41,
   "id": "a194c676",
   "metadata": {},
   "outputs": [],
   "source": [
    "data.loc[:,[\"TMAX\",\"TMIN\"]] = data.loc[:,[\"TMAX\",\"TMIN\"]].astype(float) "
   ]
  },
  {
   "cell_type": "code",
   "execution_count": 42,
   "id": "d78cb5ca",
   "metadata": {},
   "outputs": [],
   "source": [
    "#normalizing data between 0 and 1 by min max technique \n",
    "for x in data.columns:\n",
    "    data[x] = (data[x]-data[x].min())/data[x].max()-data[x].min()\n"
   ]
  },
  {
   "cell_type": "code",
   "execution_count": 43,
   "id": "a4ed57ec",
   "metadata": {},
   "outputs": [],
   "source": [
    "data[\"y\"] = y_train1"
   ]
  },
  {
   "cell_type": "code",
   "execution_count": 44,
   "id": "a6abe9c6",
   "metadata": {},
   "outputs": [
    {
     "data": {
      "text/html": [
       "<div>\n",
       "<style scoped>\n",
       "    .dataframe tbody tr th:only-of-type {\n",
       "        vertical-align: middle;\n",
       "    }\n",
       "\n",
       "    .dataframe tbody tr th {\n",
       "        vertical-align: top;\n",
       "    }\n",
       "\n",
       "    .dataframe thead th {\n",
       "        text-align: right;\n",
       "    }\n",
       "</style>\n",
       "<table border=\"1\" class=\"dataframe\">\n",
       "  <thead>\n",
       "    <tr style=\"text-align: right;\">\n",
       "      <th></th>\n",
       "      <th>AWND</th>\n",
       "      <th>TMAX</th>\n",
       "      <th>TMIN</th>\n",
       "      <th>WDF2</th>\n",
       "      <th>WDF5</th>\n",
       "      <th>WSF5</th>\n",
       "      <th>y</th>\n",
       "    </tr>\n",
       "  </thead>\n",
       "  <tbody>\n",
       "    <tr>\n",
       "      <th>0</th>\n",
       "      <td>0.195031</td>\n",
       "      <td>-51.819820</td>\n",
       "      <td>-37.772152</td>\n",
       "      <td>-9.277778</td>\n",
       "      <td>-9.250000</td>\n",
       "      <td>-5.761765</td>\n",
       "      <td>0.0</td>\n",
       "    </tr>\n",
       "    <tr>\n",
       "      <th>1</th>\n",
       "      <td>0.166460</td>\n",
       "      <td>-51.774775</td>\n",
       "      <td>-37.658228</td>\n",
       "      <td>-9.277778</td>\n",
       "      <td>-9.277778</td>\n",
       "      <td>-5.735294</td>\n",
       "      <td>0.0</td>\n",
       "    </tr>\n",
       "    <tr>\n",
       "      <th>2</th>\n",
       "      <td>0.055901</td>\n",
       "      <td>-51.882883</td>\n",
       "      <td>-37.873418</td>\n",
       "      <td>-9.277778</td>\n",
       "      <td>-9.277778</td>\n",
       "      <td>-5.820588</td>\n",
       "      <td>0.0</td>\n",
       "    </tr>\n",
       "    <tr>\n",
       "      <th>3</th>\n",
       "      <td>0.139130</td>\n",
       "      <td>-51.729730</td>\n",
       "      <td>-37.658228</td>\n",
       "      <td>-9.305556</td>\n",
       "      <td>-9.305556</td>\n",
       "      <td>-5.761765</td>\n",
       "      <td>0.0</td>\n",
       "    </tr>\n",
       "    <tr>\n",
       "      <th>4</th>\n",
       "      <td>0.110559</td>\n",
       "      <td>-51.729730</td>\n",
       "      <td>-37.746835</td>\n",
       "      <td>-9.277778</td>\n",
       "      <td>-9.277778</td>\n",
       "      <td>-5.761765</td>\n",
       "      <td>0.0</td>\n",
       "    </tr>\n",
       "    <tr>\n",
       "      <th>...</th>\n",
       "      <td>...</td>\n",
       "      <td>...</td>\n",
       "      <td>...</td>\n",
       "      <td>...</td>\n",
       "      <td>...</td>\n",
       "      <td>...</td>\n",
       "      <td>...</td>\n",
       "    </tr>\n",
       "    <tr>\n",
       "      <th>6635</th>\n",
       "      <td>0.332919</td>\n",
       "      <td>-51.864865</td>\n",
       "      <td>-37.759494</td>\n",
       "      <td>-9.666667</td>\n",
       "      <td>-9.805556</td>\n",
       "      <td>-5.820588</td>\n",
       "      <td>1.0</td>\n",
       "    </tr>\n",
       "    <tr>\n",
       "      <th>6636</th>\n",
       "      <td>0.139130</td>\n",
       "      <td>-51.900901</td>\n",
       "      <td>-37.886076</td>\n",
       "      <td>-9.777778</td>\n",
       "      <td>-9.750000</td>\n",
       "      <td>-5.794118</td>\n",
       "      <td>1.0</td>\n",
       "    </tr>\n",
       "    <tr>\n",
       "      <th>6637</th>\n",
       "      <td>0.249689</td>\n",
       "      <td>-51.864865</td>\n",
       "      <td>-37.810127</td>\n",
       "      <td>-9.277778</td>\n",
       "      <td>-9.277778</td>\n",
       "      <td>-5.735294</td>\n",
       "      <td>1.0</td>\n",
       "    </tr>\n",
       "    <tr>\n",
       "      <th>6638</th>\n",
       "      <td>0.110559</td>\n",
       "      <td>-51.927928</td>\n",
       "      <td>-37.784810</td>\n",
       "      <td>-9.750000</td>\n",
       "      <td>-9.777778</td>\n",
       "      <td>-5.914706</td>\n",
       "      <td>1.0</td>\n",
       "    </tr>\n",
       "    <tr>\n",
       "      <th>6639</th>\n",
       "      <td>0.278261</td>\n",
       "      <td>-51.927928</td>\n",
       "      <td>-37.835443</td>\n",
       "      <td>-9.305556</td>\n",
       "      <td>-9.277778</td>\n",
       "      <td>-5.735294</td>\n",
       "      <td>1.0</td>\n",
       "    </tr>\n",
       "  </tbody>\n",
       "</table>\n",
       "<p>6640 rows × 7 columns</p>\n",
       "</div>"
      ],
      "text/plain": [
       "          AWND       TMAX       TMIN      WDF2      WDF5      WSF5    y\n",
       "0     0.195031 -51.819820 -37.772152 -9.277778 -9.250000 -5.761765  0.0\n",
       "1     0.166460 -51.774775 -37.658228 -9.277778 -9.277778 -5.735294  0.0\n",
       "2     0.055901 -51.882883 -37.873418 -9.277778 -9.277778 -5.820588  0.0\n",
       "3     0.139130 -51.729730 -37.658228 -9.305556 -9.305556 -5.761765  0.0\n",
       "4     0.110559 -51.729730 -37.746835 -9.277778 -9.277778 -5.761765  0.0\n",
       "...        ...        ...        ...       ...       ...       ...  ...\n",
       "6635  0.332919 -51.864865 -37.759494 -9.666667 -9.805556 -5.820588  1.0\n",
       "6636  0.139130 -51.900901 -37.886076 -9.777778 -9.750000 -5.794118  1.0\n",
       "6637  0.249689 -51.864865 -37.810127 -9.277778 -9.277778 -5.735294  1.0\n",
       "6638  0.110559 -51.927928 -37.784810 -9.750000 -9.777778 -5.914706  1.0\n",
       "6639  0.278261 -51.927928 -37.835443 -9.305556 -9.277778 -5.735294  1.0\n",
       "\n",
       "[6640 rows x 7 columns]"
      ]
     },
     "execution_count": 44,
     "metadata": {},
     "output_type": "execute_result"
    }
   ],
   "source": [
    "ind = data.index\n",
    "data\n"
   ]
  },
  {
   "cell_type": "code",
   "execution_count": 45,
   "id": "dac7c345",
   "metadata": {},
   "outputs": [
    {
     "data": {
      "text/html": [
       "<div>\n",
       "<style scoped>\n",
       "    .dataframe tbody tr th:only-of-type {\n",
       "        vertical-align: middle;\n",
       "    }\n",
       "\n",
       "    .dataframe tbody tr th {\n",
       "        vertical-align: top;\n",
       "    }\n",
       "\n",
       "    .dataframe thead th {\n",
       "        text-align: right;\n",
       "    }\n",
       "</style>\n",
       "<table border=\"1\" class=\"dataframe\">\n",
       "  <thead>\n",
       "    <tr style=\"text-align: right;\">\n",
       "      <th></th>\n",
       "      <th>AWND</th>\n",
       "      <th>TMAX</th>\n",
       "      <th>TMIN</th>\n",
       "      <th>WDF2</th>\n",
       "      <th>WDF5</th>\n",
       "      <th>WSF5</th>\n",
       "      <th>y</th>\n",
       "    </tr>\n",
       "  </thead>\n",
       "  <tbody>\n",
       "    <tr>\n",
       "      <th>0</th>\n",
       "      <td>0.027329</td>\n",
       "      <td>-51.837838</td>\n",
       "      <td>-37.886076</td>\n",
       "      <td>-9.305556</td>\n",
       "      <td>-9.305556</td>\n",
       "      <td>-5.820588</td>\n",
       "      <td>0.0</td>\n",
       "    </tr>\n",
       "    <tr>\n",
       "      <th>1</th>\n",
       "      <td>0.110559</td>\n",
       "      <td>-51.846847</td>\n",
       "      <td>-37.784810</td>\n",
       "      <td>-9.638889</td>\n",
       "      <td>-9.638889</td>\n",
       "      <td>-5.794118</td>\n",
       "      <td>1.0</td>\n",
       "    </tr>\n",
       "    <tr>\n",
       "      <th>2</th>\n",
       "      <td>0.195031</td>\n",
       "      <td>-51.648649</td>\n",
       "      <td>-37.607595</td>\n",
       "      <td>-9.277778</td>\n",
       "      <td>-9.222222</td>\n",
       "      <td>-5.735294</td>\n",
       "      <td>0.0</td>\n",
       "    </tr>\n",
       "    <tr>\n",
       "      <th>3</th>\n",
       "      <td>0.249689</td>\n",
       "      <td>-51.882883</td>\n",
       "      <td>-37.784810</td>\n",
       "      <td>-9.833333</td>\n",
       "      <td>-9.027778</td>\n",
       "      <td>-5.852941</td>\n",
       "      <td>1.0</td>\n",
       "    </tr>\n",
       "    <tr>\n",
       "      <th>4</th>\n",
       "      <td>0.527950</td>\n",
       "      <td>-51.882883</td>\n",
       "      <td>-37.822785</td>\n",
       "      <td>-9.277778</td>\n",
       "      <td>-9.250000</td>\n",
       "      <td>-5.500000</td>\n",
       "      <td>1.0</td>\n",
       "    </tr>\n",
       "    <tr>\n",
       "      <th>...</th>\n",
       "      <td>...</td>\n",
       "      <td>...</td>\n",
       "      <td>...</td>\n",
       "      <td>...</td>\n",
       "      <td>...</td>\n",
       "      <td>...</td>\n",
       "      <td>...</td>\n",
       "    </tr>\n",
       "    <tr>\n",
       "      <th>6635</th>\n",
       "      <td>0.083230</td>\n",
       "      <td>-51.783784</td>\n",
       "      <td>-37.696203</td>\n",
       "      <td>-9.277778</td>\n",
       "      <td>-9.250000</td>\n",
       "      <td>-5.852941</td>\n",
       "      <td>1.0</td>\n",
       "    </tr>\n",
       "    <tr>\n",
       "      <th>6636</th>\n",
       "      <td>0.361491</td>\n",
       "      <td>-51.909910</td>\n",
       "      <td>-37.810127</td>\n",
       "      <td>-9.305556</td>\n",
       "      <td>-9.277778</td>\n",
       "      <td>-5.473529</td>\n",
       "      <td>1.0</td>\n",
       "    </tr>\n",
       "    <tr>\n",
       "      <th>6637</th>\n",
       "      <td>0.472050</td>\n",
       "      <td>-51.954955</td>\n",
       "      <td>-37.936709</td>\n",
       "      <td>-9.750000</td>\n",
       "      <td>-9.277778</td>\n",
       "      <td>-5.702941</td>\n",
       "      <td>1.0</td>\n",
       "    </tr>\n",
       "    <tr>\n",
       "      <th>6638</th>\n",
       "      <td>0.139130</td>\n",
       "      <td>-51.738739</td>\n",
       "      <td>-37.759494</td>\n",
       "      <td>-9.250000</td>\n",
       "      <td>-9.277778</td>\n",
       "      <td>-5.794118</td>\n",
       "      <td>0.0</td>\n",
       "    </tr>\n",
       "    <tr>\n",
       "      <th>6639</th>\n",
       "      <td>0.139130</td>\n",
       "      <td>-51.837838</td>\n",
       "      <td>-37.746835</td>\n",
       "      <td>-9.277778</td>\n",
       "      <td>-9.305556</td>\n",
       "      <td>-5.794118</td>\n",
       "      <td>1.0</td>\n",
       "    </tr>\n",
       "  </tbody>\n",
       "</table>\n",
       "<p>6640 rows × 7 columns</p>\n",
       "</div>"
      ],
      "text/plain": [
       "          AWND       TMAX       TMIN      WDF2      WDF5      WSF5    y\n",
       "0     0.027329 -51.837838 -37.886076 -9.305556 -9.305556 -5.820588  0.0\n",
       "1     0.110559 -51.846847 -37.784810 -9.638889 -9.638889 -5.794118  1.0\n",
       "2     0.195031 -51.648649 -37.607595 -9.277778 -9.222222 -5.735294  0.0\n",
       "3     0.249689 -51.882883 -37.784810 -9.833333 -9.027778 -5.852941  1.0\n",
       "4     0.527950 -51.882883 -37.822785 -9.277778 -9.250000 -5.500000  1.0\n",
       "...        ...        ...        ...       ...       ...       ...  ...\n",
       "6635  0.083230 -51.783784 -37.696203 -9.277778 -9.250000 -5.852941  1.0\n",
       "6636  0.361491 -51.909910 -37.810127 -9.305556 -9.277778 -5.473529  1.0\n",
       "6637  0.472050 -51.954955 -37.936709 -9.750000 -9.277778 -5.702941  1.0\n",
       "6638  0.139130 -51.738739 -37.759494 -9.250000 -9.277778 -5.794118  0.0\n",
       "6639  0.139130 -51.837838 -37.746835 -9.277778 -9.305556 -5.794118  1.0\n",
       "\n",
       "[6640 rows x 7 columns]"
      ]
     },
     "execution_count": 45,
     "metadata": {},
     "output_type": "execute_result"
    }
   ],
   "source": [
    "data = shuffle(data)\n",
    "data.index = ind\n",
    "data"
   ]
  },
  {
   "cell_type": "code",
   "execution_count": 46,
   "id": "3dbff638",
   "metadata": {},
   "outputs": [
    {
     "data": {
      "text/plain": [
       "(6320, 7)"
      ]
     },
     "execution_count": 46,
     "metadata": {},
     "output_type": "execute_result"
    }
   ],
   "source": [
    "x_test = data.tail(320)\n",
    "x_train = data.drop(index = data.tail(320).index)\n",
    "\n",
    "x_train.shape"
   ]
  },
  {
   "cell_type": "code",
   "execution_count": 47,
   "id": "6c8000fe",
   "metadata": {},
   "outputs": [],
   "source": [
    "y_train = x_train[\"y\"]"
   ]
  },
  {
   "cell_type": "code",
   "execution_count": 48,
   "id": "1f034802",
   "metadata": {},
   "outputs": [],
   "source": [
    "x_train = x_train.drop(columns = \"y\")"
   ]
  },
  {
   "cell_type": "code",
   "execution_count": 49,
   "id": "3fc7190f",
   "metadata": {},
   "outputs": [],
   "source": [
    "y_test = x_test[\"y\"]\n"
   ]
  },
  {
   "cell_type": "code",
   "execution_count": 50,
   "id": "68fa2c16",
   "metadata": {},
   "outputs": [],
   "source": [
    "x_test = x_test.drop(columns = \"y\")"
   ]
  },
  {
   "cell_type": "code",
   "execution_count": 51,
   "id": "1acf9102",
   "metadata": {},
   "outputs": [
    {
     "data": {
      "text/plain": [
       "(320,)"
      ]
     },
     "execution_count": 51,
     "metadata": {},
     "output_type": "execute_result"
    }
   ],
   "source": [
    "y_test.shape"
   ]
  },
  {
   "cell_type": "markdown",
   "id": "f87f4b02",
   "metadata": {},
   "source": [
    "## implementing model on neural network (MPL Classifier)"
   ]
  },
  {
   "cell_type": "code",
   "execution_count": 52,
   "id": "b74098e1",
   "metadata": {},
   "outputs": [],
   "source": [
    "from sklearn.neural_network import MLPClassifier\n",
    "from sklearn.linear_model import LogisticRegression"
   ]
  },
  {
   "cell_type": "code",
   "execution_count": 53,
   "id": "2decb09c",
   "metadata": {},
   "outputs": [],
   "source": [
    "clf = LogisticRegression(max_iter = 10000)\n",
    "#clf = MLPClassifier(hidden_layer_sizes = (500,400,300,200,90),max_iter = 100, activation = \"relu\", solver = \"adam\", random_state = 1) # describing model"
   ]
  },
  {
   "cell_type": "code",
   "execution_count": 54,
   "id": "09810f36",
   "metadata": {},
   "outputs": [
    {
     "data": {
      "text/plain": [
       "LogisticRegression(max_iter=10000)"
      ]
     },
     "execution_count": 54,
     "metadata": {},
     "output_type": "execute_result"
    }
   ],
   "source": [
    "# fitting training data\n",
    "clf.fit(x_train,y_train)"
   ]
  },
  {
   "cell_type": "code",
   "execution_count": 55,
   "id": "d385b8f8",
   "metadata": {},
   "outputs": [],
   "source": [
    "y_pred = clf.predict(x_test)"
   ]
  },
  {
   "cell_type": "code",
   "execution_count": 56,
   "id": "1cf20a60",
   "metadata": {},
   "outputs": [],
   "source": [
    "from sklearn.metrics import confusion_matrix"
   ]
  },
  {
   "cell_type": "code",
   "execution_count": 57,
   "id": "2d6c2ba4",
   "metadata": {},
   "outputs": [],
   "source": [
    "c_m = confusion_matrix(y_pred,y_test)"
   ]
  },
  {
   "cell_type": "code",
   "execution_count": 58,
   "id": "137b7d6f",
   "metadata": {},
   "outputs": [
    {
     "data": {
      "text/plain": [
       "array([[137,  20],\n",
       "       [ 29, 134]], dtype=int64)"
      ]
     },
     "execution_count": 58,
     "metadata": {},
     "output_type": "execute_result"
    }
   ],
   "source": [
    "c_m"
   ]
  },
  {
   "cell_type": "code",
   "execution_count": 59,
   "id": "abac0c1f",
   "metadata": {},
   "outputs": [],
   "source": [
    "acc = round(((c_m[0,0]+c_m[1,1])/c_m.sum())*100,2)"
   ]
  },
  {
   "cell_type": "code",
   "execution_count": 60,
   "id": "f53571c3",
   "metadata": {},
   "outputs": [],
   "source": [
    "plt.style.use(\"fivethirtyeight\")\n",
    "slices = c_m.reshape(4)"
   ]
  },
  {
   "cell_type": "code",
   "execution_count": 61,
   "id": "6bd9212b",
   "metadata": {},
   "outputs": [
    {
     "name": "stdout",
     "output_type": "stream",
     "text": [
      "['Solarize_Light2', '_classic_test_patch', 'bmh', 'classic', 'dark_background', 'fast', 'fivethirtyeight', 'ggplot', 'grayscale', 'seaborn', 'seaborn-bright', 'seaborn-colorblind', 'seaborn-dark', 'seaborn-dark-palette', 'seaborn-darkgrid', 'seaborn-deep', 'seaborn-muted', 'seaborn-notebook', 'seaborn-paper', 'seaborn-pastel', 'seaborn-poster', 'seaborn-talk', 'seaborn-ticks', 'seaborn-white', 'seaborn-whitegrid', 'tableau-colorblind10']\n"
     ]
    }
   ],
   "source": [
    "print(plt.style.available )"
   ]
  },
  {
   "cell_type": "code",
   "execution_count": 62,
   "id": "9391139d",
   "metadata": {},
   "outputs": [
    {
     "data": {
      "text/plain": [
       "([<matplotlib.patches.Wedge at 0x185961a0ca0>,\n",
       "  <matplotlib.patches.Wedge at 0x185961ae5b0>,\n",
       "  <matplotlib.patches.Wedge at 0x185961aee80>,\n",
       "  <matplotlib.patches.Wedge at 0x185961bd790>],\n",
       " [Text(-0.9873698583588406, 1.576293361910924, 'True Positive'),\n",
       "  Text(-1.5184125526504268, -0.8899569202796364, 'False Positive'),\n",
       "  Text(-0.9342855271961319, -1.4915463632324162, 'False Negative'),\n",
       "  Text(1.6046859050838351, -0.940522804627976, 'True Negative')],\n",
       " [Text(-0.562694650462565, 0.8983177223793438, '42.8 percent'),\n",
       "  Text(-0.8282250287184145, -0.4854310474252561, '6.2 percent'),\n",
       "  Text(-0.5096102875615264, -0.8135707435813178, '9.1 percent'),\n",
       "  Text(0.9144984190262715, -0.5359968671535776, '41.9 percent')])"
      ]
     },
     "execution_count": 62,
     "metadata": {},
     "output_type": "execute_result"
    },
    {
     "data": {
      "image/png": "[encoded data removed]",
      "text/plain": [
       "<Figure size 432x288 with 1 Axes>"
      ]
     },
     "metadata": {},
     "output_type": "display_data"
    }
   ],
   "source": [
    "label = [\"True Positive\",\"False Positive\",\"False Negative\",\"True Negative\"]\n",
    "#colors = [\"#fafad2\", \"#f7cac9\",\"#434aa8\", \"#dab600\"]\n",
    "plt.tight_layout()\n",
    "plt.title(\"confusion matrix pie chart\\n\\n\")\n",
    "plt.pie(slices, labels = label,shadow = True,autopct = \"%1.1f percent\",explode =[0.1,0,0,0.1],radius = 1.6,startangle = 45, wedgeprops = {'linewidth': 4} )\n"
   ]
  },
  {
   "cell_type": "code",
   "execution_count": 63,
   "id": "07e2a06f",
   "metadata": {},
   "outputs": [
    {
     "name": "stdout",
     "output_type": "stream",
     "text": [
      "percentage accuracy = 84.69 %\n"
     ]
    }
   ],
   "source": [
    "print(\"percentage accuracy =\",round(acc,2),\"%\")"
   ]
  },
  {
   "cell_type": "code",
   "execution_count": null,
   "id": "23f337a8",
   "metadata": {},
   "outputs": [],
   "source": []
  },
  {
   "cell_type": "code",
   "execution_count": null,
   "id": "e0062e63",
   "metadata": {},
   "outputs": [],
   "source": []
  }
 ],
 "metadata": {
  "kernelspec": {
   "display_name": "Python 3",
   "language": "python",
   "name": "python3"
  },
  "language_info": {
   "codemirror_mode": {
    "name": "ipython",
    "version": 3
   },
   "file_extension": ".py",
   "mimetype": "text/x-python",
   "name": "python",
   "nbconvert_exporter": "python",
   "pygments_lexer": "ipython3",
   "version": "3.8.8"
  }
 },
 "nbformat": 4,
 "nbformat_minor": 5
}
