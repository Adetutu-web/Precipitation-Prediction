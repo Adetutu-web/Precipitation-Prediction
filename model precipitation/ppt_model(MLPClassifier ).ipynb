{
 "cells": [
  {
   "cell_type": "code",
   "execution_count": 77,
   "id": "08489846",
   "metadata": {},
   "outputs": [],
   "source": [
    "import numpy as np\n",
    "import pandas as pd\n",
    "import matplotlib.pyplot as plt\n",
    "from sklearn.utils import resample,shuffle\n",
    "\n",
    "import seaborn as sns\n",
    "from sklearn.preprocessing import LabelEncoder\n",
    "from sklearn import preprocessing\n",
    "\n",
    "from sklearn.feature_selection import chi2"
   ]
  },
  {
   "cell_type": "code",
   "execution_count": 2,
   "id": "6587ce61",
   "metadata": {},
   "outputs": [],
   "source": [
    "data1 = pd.read_csv(\"dataset.csv\")\n"
   ]
  },
  {
   "cell_type": "code",
   "execution_count": 3,
   "id": "aaf9416e",
   "metadata": {},
   "outputs": [],
   "source": [
    "# replacing PRCV value with 1 for example having PRCP value more than 0 \n",
    "filt = data1[\"PRCP\"]>0\n",
    "\n",
    "data1.loc[filt,\"PRCP\"] = 1"
   ]
  },
  {
   "cell_type": "code",
   "execution_count": 4,
   "id": "87ddda80",
   "metadata": {},
   "outputs": [
    {
     "data": {
      "text/plain": [
       "167"
      ]
     },
     "execution_count": 4,
     "metadata": {},
     "output_type": "execute_result"
    }
   ],
   "source": [
    "(data1[\"PRCP\"]>0).sum()"
   ]
  },
  {
   "cell_type": "code",
   "execution_count": 5,
   "id": "aee26cb5",
   "metadata": {},
   "outputs": [
    {
     "data": {
      "text/plain": [
       "TAVG       100.000000\n",
       "WT02        97.865353\n",
       "PGTM        96.606459\n",
       "WT01        69.841270\n",
       "WT08        52.873563\n",
       "WDF5         0.985222\n",
       "WSF5         0.985222\n",
       "WDF2         0.273673\n",
       "AWND         0.218938\n",
       "WSF2         0.218938\n",
       "STATION      0.000000\n",
       "NAME         0.000000\n",
       "DATE         0.000000\n",
       "PRCP         0.000000\n",
       "TMAX         0.000000\n",
       "TMIN         0.000000\n",
       "dtype: float64"
      ]
     },
     "execution_count": 5,
     "metadata": {},
     "output_type": "execute_result"
    }
   ],
   "source": [
    "### checking percentage null values (column wise) \n",
    "data1.isnull().sum(axis = 0).sort_values(ascending = False)/len(data1)*100"
   ]
  },
  {
   "cell_type": "markdown",
   "id": "2cde8436",
   "metadata": {},
   "source": [
    "### here 3 columns are having more than 95% entries missing so we're dropping these columns\n"
   ]
  },
  {
   "cell_type": "code",
   "execution_count": 7,
   "id": "0283a8d5",
   "metadata": {},
   "outputs": [],
   "source": [
    "\n",
    "d = (data1.isnull().sum(axis = 0).sort_values(ascending = False)/len(data1)*100 >95) ## series of T/F "
   ]
  },
  {
   "cell_type": "code",
   "execution_count": 8,
   "id": "4ecfcabe",
   "metadata": {},
   "outputs": [
    {
     "data": {
      "text/plain": [
       "Index(['TAVG', 'WT02', 'PGTM'], dtype='object')"
      ]
     },
     "execution_count": 8,
     "metadata": {},
     "output_type": "execute_result"
    }
   ],
   "source": [
    "d.index[d.values] # masking over series over by its value(T/F) "
   ]
  },
  {
   "cell_type": "markdown",
   "id": "337d6cd8",
   "metadata": {},
   "source": [
    "### 3 columns have been removed"
   ]
  },
  {
   "cell_type": "code",
   "execution_count": 9,
   "id": "ac36888a",
   "metadata": {},
   "outputs": [],
   "source": [
    "data1.drop(columns = d.index[d.values],inplace = True)"
   ]
  },
  {
   "cell_type": "code",
   "execution_count": 10,
   "id": "c234ee7b",
   "metadata": {},
   "outputs": [
    {
     "data": {
      "text/plain": [
       "WT01       69.841270\n",
       "WT08       52.873563\n",
       "WDF5        0.985222\n",
       "WSF5        0.985222\n",
       "WDF2        0.273673\n",
       "AWND        0.218938\n",
       "WSF2        0.218938\n",
       "STATION     0.000000\n",
       "NAME        0.000000\n",
       "DATE        0.000000\n",
       "PRCP        0.000000\n",
       "TMAX        0.000000\n",
       "TMIN        0.000000\n",
       "dtype: float64"
      ]
     },
     "execution_count": 10,
     "metadata": {},
     "output_type": "execute_result"
    }
   ],
   "source": [
    "### checking percentage null values column wise \n",
    "data1.isnull().sum(axis = 0).sort_values(ascending = False)/len(data1)*100"
   ]
  },
  {
   "cell_type": "code",
   "execution_count": 11,
   "id": "9a6087e6",
   "metadata": {},
   "outputs": [
    {
     "data": {
      "text/html": [
       "<div>\n",
       "<style scoped>\n",
       "    .dataframe tbody tr th:only-of-type {\n",
       "        vertical-align: middle;\n",
       "    }\n",
       "\n",
       "    .dataframe tbody tr th {\n",
       "        vertical-align: top;\n",
       "    }\n",
       "\n",
       "    .dataframe thead th {\n",
       "        text-align: right;\n",
       "    }\n",
       "</style>\n",
       "<table border=\"1\" class=\"dataframe\">\n",
       "  <thead>\n",
       "    <tr style=\"text-align: right;\">\n",
       "      <th></th>\n",
       "      <th>STATION</th>\n",
       "      <th>NAME</th>\n",
       "      <th>DATE</th>\n",
       "      <th>AWND</th>\n",
       "      <th>PRCP</th>\n",
       "      <th>TMAX</th>\n",
       "      <th>TMIN</th>\n",
       "      <th>WDF2</th>\n",
       "      <th>WDF5</th>\n",
       "      <th>WSF2</th>\n",
       "      <th>WSF5</th>\n",
       "      <th>WT01</th>\n",
       "      <th>WT08</th>\n",
       "    </tr>\n",
       "  </thead>\n",
       "  <tbody>\n",
       "    <tr>\n",
       "      <th>0</th>\n",
       "      <td>USW00093134</td>\n",
       "      <td>LOS ANGELES DOWNTOWN USC, CA US</td>\n",
       "      <td>01-01-2016</td>\n",
       "      <td>2.46</td>\n",
       "      <td>0.0</td>\n",
       "      <td>64</td>\n",
       "      <td>43</td>\n",
       "      <td>10.0</td>\n",
       "      <td>30.0</td>\n",
       "      <td>8.1</td>\n",
       "      <td>11.0</td>\n",
       "      <td>NaN</td>\n",
       "      <td>1.0</td>\n",
       "    </tr>\n",
       "    <tr>\n",
       "      <th>1</th>\n",
       "      <td>USW00093134</td>\n",
       "      <td>LOS ANGELES DOWNTOWN USC, CA US</td>\n",
       "      <td>02-01-2016</td>\n",
       "      <td>2.01</td>\n",
       "      <td>0.0</td>\n",
       "      <td>65</td>\n",
       "      <td>47</td>\n",
       "      <td>270.0</td>\n",
       "      <td>30.0</td>\n",
       "      <td>6.0</td>\n",
       "      <td>8.9</td>\n",
       "      <td>NaN</td>\n",
       "      <td>NaN</td>\n",
       "    </tr>\n",
       "    <tr>\n",
       "      <th>2</th>\n",
       "      <td>USW00093134</td>\n",
       "      <td>LOS ANGELES DOWNTOWN USC, CA US</td>\n",
       "      <td>03-01-2016</td>\n",
       "      <td>0.67</td>\n",
       "      <td>0.0</td>\n",
       "      <td>62</td>\n",
       "      <td>44</td>\n",
       "      <td>150.0</td>\n",
       "      <td>150.0</td>\n",
       "      <td>10.1</td>\n",
       "      <td>14.1</td>\n",
       "      <td>NaN</td>\n",
       "      <td>NaN</td>\n",
       "    </tr>\n",
       "    <tr>\n",
       "      <th>3</th>\n",
       "      <td>USW00093134</td>\n",
       "      <td>LOS ANGELES DOWNTOWN USC, CA US</td>\n",
       "      <td>04-01-2016</td>\n",
       "      <td>1.34</td>\n",
       "      <td>1.0</td>\n",
       "      <td>69</td>\n",
       "      <td>55</td>\n",
       "      <td>270.0</td>\n",
       "      <td>280.0</td>\n",
       "      <td>8.1</td>\n",
       "      <td>14.1</td>\n",
       "      <td>NaN</td>\n",
       "      <td>NaN</td>\n",
       "    </tr>\n",
       "    <tr>\n",
       "      <th>4</th>\n",
       "      <td>USW00093134</td>\n",
       "      <td>LOS ANGELES DOWNTOWN USC, CA US</td>\n",
       "      <td>05-01-2016</td>\n",
       "      <td>2.46</td>\n",
       "      <td>1.0</td>\n",
       "      <td>59</td>\n",
       "      <td>49</td>\n",
       "      <td>140.0</td>\n",
       "      <td>140.0</td>\n",
       "      <td>10.1</td>\n",
       "      <td>16.1</td>\n",
       "      <td>1.0</td>\n",
       "      <td>NaN</td>\n",
       "    </tr>\n",
       "    <tr>\n",
       "      <th>...</th>\n",
       "      <td>...</td>\n",
       "      <td>...</td>\n",
       "      <td>...</td>\n",
       "      <td>...</td>\n",
       "      <td>...</td>\n",
       "      <td>...</td>\n",
       "      <td>...</td>\n",
       "      <td>...</td>\n",
       "      <td>...</td>\n",
       "      <td>...</td>\n",
       "      <td>...</td>\n",
       "      <td>...</td>\n",
       "      <td>...</td>\n",
       "    </tr>\n",
       "    <tr>\n",
       "      <th>1822</th>\n",
       "      <td>USW00093134</td>\n",
       "      <td>LOS ANGELES DOWNTOWN USC, CA US</td>\n",
       "      <td>27-12-2020</td>\n",
       "      <td>1.12</td>\n",
       "      <td>1.0</td>\n",
       "      <td>66</td>\n",
       "      <td>55</td>\n",
       "      <td>270.0</td>\n",
       "      <td>260.0</td>\n",
       "      <td>8.9</td>\n",
       "      <td>18.1</td>\n",
       "      <td>1.0</td>\n",
       "      <td>1.0</td>\n",
       "    </tr>\n",
       "    <tr>\n",
       "      <th>1823</th>\n",
       "      <td>USW00093134</td>\n",
       "      <td>LOS ANGELES DOWNTOWN USC, CA US</td>\n",
       "      <td>28-12-2020</td>\n",
       "      <td>4.70</td>\n",
       "      <td>1.0</td>\n",
       "      <td>56</td>\n",
       "      <td>47</td>\n",
       "      <td>90.0</td>\n",
       "      <td>260.0</td>\n",
       "      <td>14.1</td>\n",
       "      <td>21.0</td>\n",
       "      <td>1.0</td>\n",
       "      <td>NaN</td>\n",
       "    </tr>\n",
       "    <tr>\n",
       "      <th>1824</th>\n",
       "      <td>USW00093134</td>\n",
       "      <td>LOS ANGELES DOWNTOWN USC, CA US</td>\n",
       "      <td>29-12-2020</td>\n",
       "      <td>1.57</td>\n",
       "      <td>0.0</td>\n",
       "      <td>65</td>\n",
       "      <td>42</td>\n",
       "      <td>340.0</td>\n",
       "      <td>360.0</td>\n",
       "      <td>10.1</td>\n",
       "      <td>18.1</td>\n",
       "      <td>NaN</td>\n",
       "      <td>NaN</td>\n",
       "    </tr>\n",
       "    <tr>\n",
       "      <th>1825</th>\n",
       "      <td>USW00093134</td>\n",
       "      <td>LOS ANGELES DOWNTOWN USC, CA US</td>\n",
       "      <td>30-12-2020</td>\n",
       "      <td>0.45</td>\n",
       "      <td>0.0</td>\n",
       "      <td>69</td>\n",
       "      <td>44</td>\n",
       "      <td>260.0</td>\n",
       "      <td>260.0</td>\n",
       "      <td>6.9</td>\n",
       "      <td>12.1</td>\n",
       "      <td>NaN</td>\n",
       "      <td>NaN</td>\n",
       "    </tr>\n",
       "    <tr>\n",
       "      <th>1826</th>\n",
       "      <td>USW00093134</td>\n",
       "      <td>LOS ANGELES DOWNTOWN USC, CA US</td>\n",
       "      <td>31-12-2020</td>\n",
       "      <td>1.57</td>\n",
       "      <td>0.0</td>\n",
       "      <td>70</td>\n",
       "      <td>43</td>\n",
       "      <td>350.0</td>\n",
       "      <td>350.0</td>\n",
       "      <td>12.1</td>\n",
       "      <td>19.9</td>\n",
       "      <td>NaN</td>\n",
       "      <td>NaN</td>\n",
       "    </tr>\n",
       "  </tbody>\n",
       "</table>\n",
       "<p>1827 rows × 13 columns</p>\n",
       "</div>"
      ],
      "text/plain": [
       "          STATION                             NAME        DATE  AWND  PRCP  \\\n",
       "0     USW00093134  LOS ANGELES DOWNTOWN USC, CA US  01-01-2016  2.46   0.0   \n",
       "1     USW00093134  LOS ANGELES DOWNTOWN USC, CA US  02-01-2016  2.01   0.0   \n",
       "2     USW00093134  LOS ANGELES DOWNTOWN USC, CA US  03-01-2016  0.67   0.0   \n",
       "3     USW00093134  LOS ANGELES DOWNTOWN USC, CA US  04-01-2016  1.34   1.0   \n",
       "4     USW00093134  LOS ANGELES DOWNTOWN USC, CA US  05-01-2016  2.46   1.0   \n",
       "...           ...                              ...         ...   ...   ...   \n",
       "1822  USW00093134  LOS ANGELES DOWNTOWN USC, CA US  27-12-2020  1.12   1.0   \n",
       "1823  USW00093134  LOS ANGELES DOWNTOWN USC, CA US  28-12-2020  4.70   1.0   \n",
       "1824  USW00093134  LOS ANGELES DOWNTOWN USC, CA US  29-12-2020  1.57   0.0   \n",
       "1825  USW00093134  LOS ANGELES DOWNTOWN USC, CA US  30-12-2020  0.45   0.0   \n",
       "1826  USW00093134  LOS ANGELES DOWNTOWN USC, CA US  31-12-2020  1.57   0.0   \n",
       "\n",
       "      TMAX  TMIN   WDF2   WDF5  WSF2  WSF5  WT01  WT08  \n",
       "0       64    43   10.0   30.0   8.1  11.0   NaN   1.0  \n",
       "1       65    47  270.0   30.0   6.0   8.9   NaN   NaN  \n",
       "2       62    44  150.0  150.0  10.1  14.1   NaN   NaN  \n",
       "3       69    55  270.0  280.0   8.1  14.1   NaN   NaN  \n",
       "4       59    49  140.0  140.0  10.1  16.1   1.0   NaN  \n",
       "...    ...   ...    ...    ...   ...   ...   ...   ...  \n",
       "1822    66    55  270.0  260.0   8.9  18.1   1.0   1.0  \n",
       "1823    56    47   90.0  260.0  14.1  21.0   1.0   NaN  \n",
       "1824    65    42  340.0  360.0  10.1  18.1   NaN   NaN  \n",
       "1825    69    44  260.0  260.0   6.9  12.1   NaN   NaN  \n",
       "1826    70    43  350.0  350.0  12.1  19.9   NaN   NaN  \n",
       "\n",
       "[1827 rows x 13 columns]"
      ]
     },
     "execution_count": 11,
     "metadata": {},
     "output_type": "execute_result"
    }
   ],
   "source": [
    "data1"
   ]
  },
  {
   "cell_type": "code",
   "execution_count": 12,
   "id": "e9056735",
   "metadata": {},
   "outputs": [],
   "source": [
    "d1 = data1[data1[\"PRCP\"]==1]\n",
    "d0 = data1[data1[\"PRCP\"]==0]"
   ]
  },
  {
   "cell_type": "code",
   "execution_count": 13,
   "id": "14e50a0a",
   "metadata": {},
   "outputs": [
    {
     "data": {
      "text/plain": [
       "(167, 13)"
      ]
     },
     "execution_count": 13,
     "metadata": {},
     "output_type": "execute_result"
    }
   ],
   "source": [
    "d1.shape #class 1 example(Eg. with output 1) \n"
   ]
  },
  {
   "cell_type": "code",
   "execution_count": 14,
   "id": "cdc1e931",
   "metadata": {},
   "outputs": [
    {
     "data": {
      "text/plain": [
       "(1660, 13)"
      ]
     },
     "execution_count": 14,
     "metadata": {},
     "output_type": "execute_result"
    }
   ],
   "source": [
    "d0.shape #class 2 example(Eg. with output 0)"
   ]
  },
  {
   "cell_type": "code",
   "execution_count": 15,
   "id": "0903a8d8",
   "metadata": {},
   "outputs": [
    {
     "data": {
      "text/plain": [
       "WT08       115\n",
       "WT01        35\n",
       "WDF5         2\n",
       "WSF5         2\n",
       "STATION      0\n",
       "NAME         0\n",
       "DATE         0\n",
       "AWND         0\n",
       "PRCP         0\n",
       "TMAX         0\n",
       "TMIN         0\n",
       "WDF2         0\n",
       "WSF2         0\n",
       "dtype: int64"
      ]
     },
     "execution_count": 15,
     "metadata": {},
     "output_type": "execute_result"
    }
   ],
   "source": [
    "d1.isnull().sum().sort_values(ascending = False) #computing column wise empty cells"
   ]
  },
  {
   "cell_type": "markdown",
   "id": "35ef8949",
   "metadata": {},
   "source": [
    "### now up sampling the class 1"
   ]
  },
  {
   "cell_type": "code",
   "execution_count": 16,
   "id": "52ce3588",
   "metadata": {},
   "outputs": [],
   "source": [
    "d1_upsampled = resample(d1,random_state = 32,n_samples=len(d0),replace = True)\n"
   ]
  },
  {
   "cell_type": "code",
   "execution_count": 17,
   "id": "ebf2340c",
   "metadata": {},
   "outputs": [
    {
     "data": {
      "text/plain": [
       "(1660, 13)"
      ]
     },
     "execution_count": 17,
     "metadata": {},
     "output_type": "execute_result"
    }
   ],
   "source": [
    "d1_upsampled.shape"
   ]
  },
  {
   "cell_type": "code",
   "execution_count": 18,
   "id": "14744446",
   "metadata": {},
   "outputs": [
    {
     "data": {
      "text/html": [
       "<div>\n",
       "<style scoped>\n",
       "    .dataframe tbody tr th:only-of-type {\n",
       "        vertical-align: middle;\n",
       "    }\n",
       "\n",
       "    .dataframe tbody tr th {\n",
       "        vertical-align: top;\n",
       "    }\n",
       "\n",
       "    .dataframe thead th {\n",
       "        text-align: right;\n",
       "    }\n",
       "</style>\n",
       "<table border=\"1\" class=\"dataframe\">\n",
       "  <thead>\n",
       "    <tr style=\"text-align: right;\">\n",
       "      <th></th>\n",
       "      <th>STATION</th>\n",
       "      <th>NAME</th>\n",
       "      <th>DATE</th>\n",
       "      <th>AWND</th>\n",
       "      <th>PRCP</th>\n",
       "      <th>TMAX</th>\n",
       "      <th>TMIN</th>\n",
       "      <th>WDF2</th>\n",
       "      <th>WDF5</th>\n",
       "      <th>WSF2</th>\n",
       "      <th>WSF5</th>\n",
       "      <th>WT01</th>\n",
       "      <th>WT08</th>\n",
       "    </tr>\n",
       "  </thead>\n",
       "  <tbody>\n",
       "    <tr>\n",
       "      <th>0</th>\n",
       "      <td>USW00093134</td>\n",
       "      <td>LOS ANGELES DOWNTOWN USC, CA US</td>\n",
       "      <td>01-01-2016</td>\n",
       "      <td>2.46</td>\n",
       "      <td>0.0</td>\n",
       "      <td>64</td>\n",
       "      <td>43</td>\n",
       "      <td>10.0</td>\n",
       "      <td>30.0</td>\n",
       "      <td>8.1</td>\n",
       "      <td>11.0</td>\n",
       "      <td>NaN</td>\n",
       "      <td>1.0</td>\n",
       "    </tr>\n",
       "    <tr>\n",
       "      <th>1</th>\n",
       "      <td>USW00093134</td>\n",
       "      <td>LOS ANGELES DOWNTOWN USC, CA US</td>\n",
       "      <td>02-01-2016</td>\n",
       "      <td>2.01</td>\n",
       "      <td>0.0</td>\n",
       "      <td>65</td>\n",
       "      <td>47</td>\n",
       "      <td>270.0</td>\n",
       "      <td>30.0</td>\n",
       "      <td>6.0</td>\n",
       "      <td>8.9</td>\n",
       "      <td>NaN</td>\n",
       "      <td>NaN</td>\n",
       "    </tr>\n",
       "    <tr>\n",
       "      <th>2</th>\n",
       "      <td>USW00093134</td>\n",
       "      <td>LOS ANGELES DOWNTOWN USC, CA US</td>\n",
       "      <td>03-01-2016</td>\n",
       "      <td>0.67</td>\n",
       "      <td>0.0</td>\n",
       "      <td>62</td>\n",
       "      <td>44</td>\n",
       "      <td>150.0</td>\n",
       "      <td>150.0</td>\n",
       "      <td>10.1</td>\n",
       "      <td>14.1</td>\n",
       "      <td>NaN</td>\n",
       "      <td>NaN</td>\n",
       "    </tr>\n",
       "    <tr>\n",
       "      <th>7</th>\n",
       "      <td>USW00093134</td>\n",
       "      <td>LOS ANGELES DOWNTOWN USC, CA US</td>\n",
       "      <td>08-01-2016</td>\n",
       "      <td>2.24</td>\n",
       "      <td>0.0</td>\n",
       "      <td>62</td>\n",
       "      <td>44</td>\n",
       "      <td>280.0</td>\n",
       "      <td>340.0</td>\n",
       "      <td>8.1</td>\n",
       "      <td>16.1</td>\n",
       "      <td>NaN</td>\n",
       "      <td>NaN</td>\n",
       "    </tr>\n",
       "    <tr>\n",
       "      <th>8</th>\n",
       "      <td>USW00093134</td>\n",
       "      <td>LOS ANGELES DOWNTOWN USC, CA US</td>\n",
       "      <td>09-01-2016</td>\n",
       "      <td>1.12</td>\n",
       "      <td>0.0</td>\n",
       "      <td>60</td>\n",
       "      <td>46</td>\n",
       "      <td>90.0</td>\n",
       "      <td>100.0</td>\n",
       "      <td>6.0</td>\n",
       "      <td>10.1</td>\n",
       "      <td>NaN</td>\n",
       "      <td>NaN</td>\n",
       "    </tr>\n",
       "    <tr>\n",
       "      <th>...</th>\n",
       "      <td>...</td>\n",
       "      <td>...</td>\n",
       "      <td>...</td>\n",
       "      <td>...</td>\n",
       "      <td>...</td>\n",
       "      <td>...</td>\n",
       "      <td>...</td>\n",
       "      <td>...</td>\n",
       "      <td>...</td>\n",
       "      <td>...</td>\n",
       "      <td>...</td>\n",
       "      <td>...</td>\n",
       "      <td>...</td>\n",
       "    </tr>\n",
       "    <tr>\n",
       "      <th>1820</th>\n",
       "      <td>USW00093134</td>\n",
       "      <td>LOS ANGELES DOWNTOWN USC, CA US</td>\n",
       "      <td>25-12-2020</td>\n",
       "      <td>1.57</td>\n",
       "      <td>0.0</td>\n",
       "      <td>75</td>\n",
       "      <td>52</td>\n",
       "      <td>270.0</td>\n",
       "      <td>270.0</td>\n",
       "      <td>8.9</td>\n",
       "      <td>14.1</td>\n",
       "      <td>NaN</td>\n",
       "      <td>NaN</td>\n",
       "    </tr>\n",
       "    <tr>\n",
       "      <th>1821</th>\n",
       "      <td>USW00093134</td>\n",
       "      <td>LOS ANGELES DOWNTOWN USC, CA US</td>\n",
       "      <td>26-12-2020</td>\n",
       "      <td>0.67</td>\n",
       "      <td>0.0</td>\n",
       "      <td>69</td>\n",
       "      <td>46</td>\n",
       "      <td>260.0</td>\n",
       "      <td>250.0</td>\n",
       "      <td>6.9</td>\n",
       "      <td>12.1</td>\n",
       "      <td>NaN</td>\n",
       "      <td>NaN</td>\n",
       "    </tr>\n",
       "    <tr>\n",
       "      <th>1824</th>\n",
       "      <td>USW00093134</td>\n",
       "      <td>LOS ANGELES DOWNTOWN USC, CA US</td>\n",
       "      <td>29-12-2020</td>\n",
       "      <td>1.57</td>\n",
       "      <td>0.0</td>\n",
       "      <td>65</td>\n",
       "      <td>42</td>\n",
       "      <td>340.0</td>\n",
       "      <td>360.0</td>\n",
       "      <td>10.1</td>\n",
       "      <td>18.1</td>\n",
       "      <td>NaN</td>\n",
       "      <td>NaN</td>\n",
       "    </tr>\n",
       "    <tr>\n",
       "      <th>1825</th>\n",
       "      <td>USW00093134</td>\n",
       "      <td>LOS ANGELES DOWNTOWN USC, CA US</td>\n",
       "      <td>30-12-2020</td>\n",
       "      <td>0.45</td>\n",
       "      <td>0.0</td>\n",
       "      <td>69</td>\n",
       "      <td>44</td>\n",
       "      <td>260.0</td>\n",
       "      <td>260.0</td>\n",
       "      <td>6.9</td>\n",
       "      <td>12.1</td>\n",
       "      <td>NaN</td>\n",
       "      <td>NaN</td>\n",
       "    </tr>\n",
       "    <tr>\n",
       "      <th>1826</th>\n",
       "      <td>USW00093134</td>\n",
       "      <td>LOS ANGELES DOWNTOWN USC, CA US</td>\n",
       "      <td>31-12-2020</td>\n",
       "      <td>1.57</td>\n",
       "      <td>0.0</td>\n",
       "      <td>70</td>\n",
       "      <td>43</td>\n",
       "      <td>350.0</td>\n",
       "      <td>350.0</td>\n",
       "      <td>12.1</td>\n",
       "      <td>19.9</td>\n",
       "      <td>NaN</td>\n",
       "      <td>NaN</td>\n",
       "    </tr>\n",
       "  </tbody>\n",
       "</table>\n",
       "<p>1660 rows × 13 columns</p>\n",
       "</div>"
      ],
      "text/plain": [
       "          STATION                             NAME        DATE  AWND  PRCP  \\\n",
       "0     USW00093134  LOS ANGELES DOWNTOWN USC, CA US  01-01-2016  2.46   0.0   \n",
       "1     USW00093134  LOS ANGELES DOWNTOWN USC, CA US  02-01-2016  2.01   0.0   \n",
       "2     USW00093134  LOS ANGELES DOWNTOWN USC, CA US  03-01-2016  0.67   0.0   \n",
       "7     USW00093134  LOS ANGELES DOWNTOWN USC, CA US  08-01-2016  2.24   0.0   \n",
       "8     USW00093134  LOS ANGELES DOWNTOWN USC, CA US  09-01-2016  1.12   0.0   \n",
       "...           ...                              ...         ...   ...   ...   \n",
       "1820  USW00093134  LOS ANGELES DOWNTOWN USC, CA US  25-12-2020  1.57   0.0   \n",
       "1821  USW00093134  LOS ANGELES DOWNTOWN USC, CA US  26-12-2020  0.67   0.0   \n",
       "1824  USW00093134  LOS ANGELES DOWNTOWN USC, CA US  29-12-2020  1.57   0.0   \n",
       "1825  USW00093134  LOS ANGELES DOWNTOWN USC, CA US  30-12-2020  0.45   0.0   \n",
       "1826  USW00093134  LOS ANGELES DOWNTOWN USC, CA US  31-12-2020  1.57   0.0   \n",
       "\n",
       "      TMAX  TMIN   WDF2   WDF5  WSF2  WSF5  WT01  WT08  \n",
       "0       64    43   10.0   30.0   8.1  11.0   NaN   1.0  \n",
       "1       65    47  270.0   30.0   6.0   8.9   NaN   NaN  \n",
       "2       62    44  150.0  150.0  10.1  14.1   NaN   NaN  \n",
       "7       62    44  280.0  340.0   8.1  16.1   NaN   NaN  \n",
       "8       60    46   90.0  100.0   6.0  10.1   NaN   NaN  \n",
       "...    ...   ...    ...    ...   ...   ...   ...   ...  \n",
       "1820    75    52  270.0  270.0   8.9  14.1   NaN   NaN  \n",
       "1821    69    46  260.0  250.0   6.9  12.1   NaN   NaN  \n",
       "1824    65    42  340.0  360.0  10.1  18.1   NaN   NaN  \n",
       "1825    69    44  260.0  260.0   6.9  12.1   NaN   NaN  \n",
       "1826    70    43  350.0  350.0  12.1  19.9   NaN   NaN  \n",
       "\n",
       "[1660 rows x 13 columns]"
      ]
     },
     "execution_count": 18,
     "metadata": {},
     "output_type": "execute_result"
    }
   ],
   "source": [
    "d0.shape\n",
    "d0"
   ]
  },
  {
   "cell_type": "code",
   "execution_count": 19,
   "id": "75c37855",
   "metadata": {},
   "outputs": [],
   "source": [
    "\n",
    "data = d0.append(d1_upsampled,ignore_index=True)"
   ]
  },
  {
   "cell_type": "code",
   "execution_count": 20,
   "id": "fab89326",
   "metadata": {},
   "outputs": [
    {
     "data": {
      "text/html": [
       "<div>\n",
       "<style scoped>\n",
       "    .dataframe tbody tr th:only-of-type {\n",
       "        vertical-align: middle;\n",
       "    }\n",
       "\n",
       "    .dataframe tbody tr th {\n",
       "        vertical-align: top;\n",
       "    }\n",
       "\n",
       "    .dataframe thead th {\n",
       "        text-align: right;\n",
       "    }\n",
       "</style>\n",
       "<table border=\"1\" class=\"dataframe\">\n",
       "  <thead>\n",
       "    <tr style=\"text-align: right;\">\n",
       "      <th></th>\n",
       "      <th>STATION</th>\n",
       "      <th>NAME</th>\n",
       "      <th>DATE</th>\n",
       "      <th>AWND</th>\n",
       "      <th>PRCP</th>\n",
       "      <th>TMAX</th>\n",
       "      <th>TMIN</th>\n",
       "      <th>WDF2</th>\n",
       "      <th>WDF5</th>\n",
       "      <th>WSF2</th>\n",
       "      <th>WSF5</th>\n",
       "      <th>WT01</th>\n",
       "      <th>WT08</th>\n",
       "    </tr>\n",
       "  </thead>\n",
       "  <tbody>\n",
       "    <tr>\n",
       "      <th>0</th>\n",
       "      <td>USW00093134</td>\n",
       "      <td>LOS ANGELES DOWNTOWN USC, CA US</td>\n",
       "      <td>01-01-2016</td>\n",
       "      <td>2.46</td>\n",
       "      <td>0.0</td>\n",
       "      <td>64</td>\n",
       "      <td>43</td>\n",
       "      <td>10.0</td>\n",
       "      <td>30.0</td>\n",
       "      <td>8.1</td>\n",
       "      <td>11.0</td>\n",
       "      <td>NaN</td>\n",
       "      <td>1.0</td>\n",
       "    </tr>\n",
       "    <tr>\n",
       "      <th>1</th>\n",
       "      <td>USW00093134</td>\n",
       "      <td>LOS ANGELES DOWNTOWN USC, CA US</td>\n",
       "      <td>02-01-2016</td>\n",
       "      <td>2.01</td>\n",
       "      <td>0.0</td>\n",
       "      <td>65</td>\n",
       "      <td>47</td>\n",
       "      <td>270.0</td>\n",
       "      <td>30.0</td>\n",
       "      <td>6.0</td>\n",
       "      <td>8.9</td>\n",
       "      <td>NaN</td>\n",
       "      <td>NaN</td>\n",
       "    </tr>\n",
       "    <tr>\n",
       "      <th>2</th>\n",
       "      <td>USW00093134</td>\n",
       "      <td>LOS ANGELES DOWNTOWN USC, CA US</td>\n",
       "      <td>03-01-2016</td>\n",
       "      <td>0.67</td>\n",
       "      <td>0.0</td>\n",
       "      <td>62</td>\n",
       "      <td>44</td>\n",
       "      <td>150.0</td>\n",
       "      <td>150.0</td>\n",
       "      <td>10.1</td>\n",
       "      <td>14.1</td>\n",
       "      <td>NaN</td>\n",
       "      <td>NaN</td>\n",
       "    </tr>\n",
       "    <tr>\n",
       "      <th>3</th>\n",
       "      <td>USW00093134</td>\n",
       "      <td>LOS ANGELES DOWNTOWN USC, CA US</td>\n",
       "      <td>08-01-2016</td>\n",
       "      <td>2.24</td>\n",
       "      <td>0.0</td>\n",
       "      <td>62</td>\n",
       "      <td>44</td>\n",
       "      <td>280.0</td>\n",
       "      <td>340.0</td>\n",
       "      <td>8.1</td>\n",
       "      <td>16.1</td>\n",
       "      <td>NaN</td>\n",
       "      <td>NaN</td>\n",
       "    </tr>\n",
       "    <tr>\n",
       "      <th>4</th>\n",
       "      <td>USW00093134</td>\n",
       "      <td>LOS ANGELES DOWNTOWN USC, CA US</td>\n",
       "      <td>09-01-2016</td>\n",
       "      <td>1.12</td>\n",
       "      <td>0.0</td>\n",
       "      <td>60</td>\n",
       "      <td>46</td>\n",
       "      <td>90.0</td>\n",
       "      <td>100.0</td>\n",
       "      <td>6.0</td>\n",
       "      <td>10.1</td>\n",
       "      <td>NaN</td>\n",
       "      <td>NaN</td>\n",
       "    </tr>\n",
       "    <tr>\n",
       "      <th>...</th>\n",
       "      <td>...</td>\n",
       "      <td>...</td>\n",
       "      <td>...</td>\n",
       "      <td>...</td>\n",
       "      <td>...</td>\n",
       "      <td>...</td>\n",
       "      <td>...</td>\n",
       "      <td>...</td>\n",
       "      <td>...</td>\n",
       "      <td>...</td>\n",
       "      <td>...</td>\n",
       "      <td>...</td>\n",
       "      <td>...</td>\n",
       "    </tr>\n",
       "    <tr>\n",
       "      <th>3315</th>\n",
       "      <td>USW00093134</td>\n",
       "      <td>LOS ANGELES DOWNTOWN USC, CA US</td>\n",
       "      <td>09-04-2020</td>\n",
       "      <td>5.82</td>\n",
       "      <td>1.0</td>\n",
       "      <td>57</td>\n",
       "      <td>52</td>\n",
       "      <td>80.0</td>\n",
       "      <td>90.0</td>\n",
       "      <td>10.1</td>\n",
       "      <td>15.0</td>\n",
       "      <td>NaN</td>\n",
       "      <td>NaN</td>\n",
       "    </tr>\n",
       "    <tr>\n",
       "      <th>3316</th>\n",
       "      <td>USW00093134</td>\n",
       "      <td>LOS ANGELES DOWNTOWN USC, CA US</td>\n",
       "      <td>17-11-2017</td>\n",
       "      <td>1.34</td>\n",
       "      <td>1.0</td>\n",
       "      <td>73</td>\n",
       "      <td>61</td>\n",
       "      <td>270.0</td>\n",
       "      <td>280.0</td>\n",
       "      <td>10.1</td>\n",
       "      <td>16.1</td>\n",
       "      <td>NaN</td>\n",
       "      <td>NaN</td>\n",
       "    </tr>\n",
       "    <tr>\n",
       "      <th>3317</th>\n",
       "      <td>USW00093134</td>\n",
       "      <td>LOS ANGELES DOWNTOWN USC, CA US</td>\n",
       "      <td>06-05-2017</td>\n",
       "      <td>3.58</td>\n",
       "      <td>1.0</td>\n",
       "      <td>66</td>\n",
       "      <td>52</td>\n",
       "      <td>270.0</td>\n",
       "      <td>270.0</td>\n",
       "      <td>10.1</td>\n",
       "      <td>19.9</td>\n",
       "      <td>NaN</td>\n",
       "      <td>1.0</td>\n",
       "    </tr>\n",
       "    <tr>\n",
       "      <th>3318</th>\n",
       "      <td>USW00093134</td>\n",
       "      <td>LOS ANGELES DOWNTOWN USC, CA US</td>\n",
       "      <td>18-05-2019</td>\n",
       "      <td>2.68</td>\n",
       "      <td>1.0</td>\n",
       "      <td>72</td>\n",
       "      <td>56</td>\n",
       "      <td>270.0</td>\n",
       "      <td>280.0</td>\n",
       "      <td>8.9</td>\n",
       "      <td>17.0</td>\n",
       "      <td>NaN</td>\n",
       "      <td>NaN</td>\n",
       "    </tr>\n",
       "    <tr>\n",
       "      <th>3319</th>\n",
       "      <td>USW00093134</td>\n",
       "      <td>LOS ANGELES DOWNTOWN USC, CA US</td>\n",
       "      <td>21-05-2018</td>\n",
       "      <td>0.22</td>\n",
       "      <td>1.0</td>\n",
       "      <td>67</td>\n",
       "      <td>60</td>\n",
       "      <td>270.0</td>\n",
       "      <td>280.0</td>\n",
       "      <td>6.9</td>\n",
       "      <td>11.0</td>\n",
       "      <td>1.0</td>\n",
       "      <td>1.0</td>\n",
       "    </tr>\n",
       "  </tbody>\n",
       "</table>\n",
       "<p>3320 rows × 13 columns</p>\n",
       "</div>"
      ],
      "text/plain": [
       "          STATION                             NAME        DATE  AWND  PRCP  \\\n",
       "0     USW00093134  LOS ANGELES DOWNTOWN USC, CA US  01-01-2016  2.46   0.0   \n",
       "1     USW00093134  LOS ANGELES DOWNTOWN USC, CA US  02-01-2016  2.01   0.0   \n",
       "2     USW00093134  LOS ANGELES DOWNTOWN USC, CA US  03-01-2016  0.67   0.0   \n",
       "3     USW00093134  LOS ANGELES DOWNTOWN USC, CA US  08-01-2016  2.24   0.0   \n",
       "4     USW00093134  LOS ANGELES DOWNTOWN USC, CA US  09-01-2016  1.12   0.0   \n",
       "...           ...                              ...         ...   ...   ...   \n",
       "3315  USW00093134  LOS ANGELES DOWNTOWN USC, CA US  09-04-2020  5.82   1.0   \n",
       "3316  USW00093134  LOS ANGELES DOWNTOWN USC, CA US  17-11-2017  1.34   1.0   \n",
       "3317  USW00093134  LOS ANGELES DOWNTOWN USC, CA US  06-05-2017  3.58   1.0   \n",
       "3318  USW00093134  LOS ANGELES DOWNTOWN USC, CA US  18-05-2019  2.68   1.0   \n",
       "3319  USW00093134  LOS ANGELES DOWNTOWN USC, CA US  21-05-2018  0.22   1.0   \n",
       "\n",
       "      TMAX  TMIN   WDF2   WDF5  WSF2  WSF5  WT01  WT08  \n",
       "0       64    43   10.0   30.0   8.1  11.0   NaN   1.0  \n",
       "1       65    47  270.0   30.0   6.0   8.9   NaN   NaN  \n",
       "2       62    44  150.0  150.0  10.1  14.1   NaN   NaN  \n",
       "3       62    44  280.0  340.0   8.1  16.1   NaN   NaN  \n",
       "4       60    46   90.0  100.0   6.0  10.1   NaN   NaN  \n",
       "...    ...   ...    ...    ...   ...   ...   ...   ...  \n",
       "3315    57    52   80.0   90.0  10.1  15.0   NaN   NaN  \n",
       "3316    73    61  270.0  280.0  10.1  16.1   NaN   NaN  \n",
       "3317    66    52  270.0  270.0  10.1  19.9   NaN   1.0  \n",
       "3318    72    56  270.0  280.0   8.9  17.0   NaN   NaN  \n",
       "3319    67    60  270.0  280.0   6.9  11.0   1.0   1.0  \n",
       "\n",
       "[3320 rows x 13 columns]"
      ]
     },
     "execution_count": 20,
     "metadata": {},
     "output_type": "execute_result"
    }
   ],
   "source": [
    "data"
   ]
  },
  {
   "cell_type": "markdown",
   "id": "ebf29f52",
   "metadata": {},
   "source": [
    "### further cleaning of data \n"
   ]
  },
  {
   "cell_type": "code",
   "execution_count": 21,
   "id": "f86bc9fa",
   "metadata": {},
   "outputs": [
    {
     "data": {
      "text/plain": [
       "WT08       2007\n",
       "WT01       1623\n",
       "WDF5         30\n",
       "WSF5         30\n",
       "WDF2          5\n",
       "AWND          4\n",
       "WSF2          4\n",
       "STATION       0\n",
       "NAME          0\n",
       "DATE          0\n",
       "PRCP          0\n",
       "TMAX          0\n",
       "TMIN          0\n",
       "dtype: int64"
      ]
     },
     "execution_count": 21,
     "metadata": {},
     "output_type": "execute_result"
    }
   ],
   "source": [
    "data.isnull().sum().sort_values(ascending = False) # analyzing WT08 and WT01 "
   ]
  },
  {
   "cell_type": "code",
   "execution_count": 22,
   "id": "994b59aa",
   "metadata": {},
   "outputs": [
    {
     "data": {
      "text/html": [
       "<div>\n",
       "<style scoped>\n",
       "    .dataframe tbody tr th:only-of-type {\n",
       "        vertical-align: middle;\n",
       "    }\n",
       "\n",
       "    .dataframe tbody tr th {\n",
       "        vertical-align: top;\n",
       "    }\n",
       "\n",
       "    .dataframe thead th {\n",
       "        text-align: right;\n",
       "    }\n",
       "</style>\n",
       "<table border=\"1\" class=\"dataframe\">\n",
       "  <thead>\n",
       "    <tr style=\"text-align: right;\">\n",
       "      <th></th>\n",
       "      <th>WT08</th>\n",
       "      <th>WT01</th>\n",
       "    </tr>\n",
       "  </thead>\n",
       "  <tbody>\n",
       "    <tr>\n",
       "      <th>count</th>\n",
       "      <td>1313.0</td>\n",
       "      <td>1697.0</td>\n",
       "    </tr>\n",
       "    <tr>\n",
       "      <th>mean</th>\n",
       "      <td>1.0</td>\n",
       "      <td>1.0</td>\n",
       "    </tr>\n",
       "    <tr>\n",
       "      <th>std</th>\n",
       "      <td>0.0</td>\n",
       "      <td>0.0</td>\n",
       "    </tr>\n",
       "    <tr>\n",
       "      <th>min</th>\n",
       "      <td>1.0</td>\n",
       "      <td>1.0</td>\n",
       "    </tr>\n",
       "    <tr>\n",
       "      <th>25%</th>\n",
       "      <td>1.0</td>\n",
       "      <td>1.0</td>\n",
       "    </tr>\n",
       "    <tr>\n",
       "      <th>50%</th>\n",
       "      <td>1.0</td>\n",
       "      <td>1.0</td>\n",
       "    </tr>\n",
       "    <tr>\n",
       "      <th>75%</th>\n",
       "      <td>1.0</td>\n",
       "      <td>1.0</td>\n",
       "    </tr>\n",
       "    <tr>\n",
       "      <th>max</th>\n",
       "      <td>1.0</td>\n",
       "      <td>1.0</td>\n",
       "    </tr>\n",
       "  </tbody>\n",
       "</table>\n",
       "</div>"
      ],
      "text/plain": [
       "         WT08    WT01\n",
       "count  1313.0  1697.0\n",
       "mean      1.0     1.0\n",
       "std       0.0     0.0\n",
       "min       1.0     1.0\n",
       "25%       1.0     1.0\n",
       "50%       1.0     1.0\n",
       "75%       1.0     1.0\n",
       "max       1.0     1.0"
      ]
     },
     "execution_count": 22,
     "metadata": {},
     "output_type": "execute_result"
    }
   ],
   "source": [
    "data.loc[:,[\"WT08\",\"WT01\"]].describe() # dropping column, as filling 1 at NaN position wouldn't help in prediction  "
   ]
  },
  {
   "cell_type": "code",
   "execution_count": 23,
   "id": "6da3ad2a",
   "metadata": {},
   "outputs": [],
   "source": [
    "data.drop(columns= [\"WT08\",\"WT01\"],inplace = True)\n"
   ]
  },
  {
   "cell_type": "code",
   "execution_count": 24,
   "id": "49d904a5",
   "metadata": {},
   "outputs": [
    {
     "data": {
      "text/plain": [
       "WDF5       30\n",
       "WSF5       30\n",
       "WDF2        5\n",
       "AWND        4\n",
       "WSF2        4\n",
       "STATION     0\n",
       "NAME        0\n",
       "DATE        0\n",
       "PRCP        0\n",
       "TMAX        0\n",
       "TMIN        0\n",
       "dtype: int64"
      ]
     },
     "execution_count": 24,
     "metadata": {},
     "output_type": "execute_result"
    }
   ],
   "source": [
    " data.isnull().sum().sort_values(ascending = False) # analyzing WT08 and WT01 "
   ]
  },
  {
   "cell_type": "code",
   "execution_count": 25,
   "id": "f47a420e",
   "metadata": {},
   "outputs": [
    {
     "data": {
      "text/html": [
       "<div>\n",
       "<style scoped>\n",
       "    .dataframe tbody tr th:only-of-type {\n",
       "        vertical-align: middle;\n",
       "    }\n",
       "\n",
       "    .dataframe tbody tr th {\n",
       "        vertical-align: top;\n",
       "    }\n",
       "\n",
       "    .dataframe thead th {\n",
       "        text-align: right;\n",
       "    }\n",
       "</style>\n",
       "<table border=\"1\" class=\"dataframe\">\n",
       "  <thead>\n",
       "    <tr style=\"text-align: right;\">\n",
       "      <th></th>\n",
       "      <th>WDF5</th>\n",
       "      <th>WSF5</th>\n",
       "    </tr>\n",
       "  </thead>\n",
       "  <tbody>\n",
       "    <tr>\n",
       "      <th>0</th>\n",
       "      <td>270.0</td>\n",
       "      <td>14.1</td>\n",
       "    </tr>\n",
       "  </tbody>\n",
       "</table>\n",
       "</div>"
      ],
      "text/plain": [
       "    WDF5  WSF5\n",
       "0  270.0  14.1"
      ]
     },
     "execution_count": 25,
     "metadata": {},
     "output_type": "execute_result"
    }
   ],
   "source": [
    "data.loc[:,[\"WDF5\",'WSF5']].mode()"
   ]
  },
  {
   "cell_type": "code",
   "execution_count": 26,
   "id": "3d64a8e1",
   "metadata": {},
   "outputs": [],
   "source": [
    "nan_WDF5 = (data[\"WDF5\"].isnull()).index[(data[\"WDF5\"].isnull()).values] #index of all NaN having celles in collumn WDF5\n",
    "nan_WSF5 = (data[\"WSF5\"].isnull()).index[(data[\"WSF5\"].isnull()).values] #index of all NaN having celles in collumn WSF5"
   ]
  },
  {
   "cell_type": "code",
   "execution_count": 27,
   "id": "a3396db8",
   "metadata": {},
   "outputs": [],
   "source": [
    "data.loc[nan_WDF5,\"WDF5\"] = [data.loc[:,\"WDF5\"].mode()] #replacing by mode\n",
    "data.loc[nan_WSF5,\"WSF5\"] = [data.loc[:,\"WSF5\"].mode()] #replacing by mode"
   ]
  },
  {
   "cell_type": "code",
   "execution_count": 28,
   "id": "259471f0",
   "metadata": {},
   "outputs": [
    {
     "data": {
      "text/plain": [
       "WDF2       5\n",
       "AWND       4\n",
       "WSF2       4\n",
       "STATION    0\n",
       "NAME       0\n",
       "DATE       0\n",
       "PRCP       0\n",
       "TMAX       0\n",
       "TMIN       0\n",
       "WDF5       0\n",
       "WSF5       0\n",
       "dtype: int64"
      ]
     },
     "execution_count": 28,
     "metadata": {},
     "output_type": "execute_result"
    }
   ],
   "source": [
    " data.isnull().sum().sort_values(ascending = False)"
   ]
  },
  {
   "cell_type": "code",
   "execution_count": 29,
   "id": "8a85417c",
   "metadata": {},
   "outputs": [
    {
     "data": {
      "text/html": [
       "<div>\n",
       "<style scoped>\n",
       "    .dataframe tbody tr th:only-of-type {\n",
       "        vertical-align: middle;\n",
       "    }\n",
       "\n",
       "    .dataframe tbody tr th {\n",
       "        vertical-align: top;\n",
       "    }\n",
       "\n",
       "    .dataframe thead th {\n",
       "        text-align: right;\n",
       "    }\n",
       "</style>\n",
       "<table border=\"1\" class=\"dataframe\">\n",
       "  <thead>\n",
       "    <tr style=\"text-align: right;\">\n",
       "      <th></th>\n",
       "      <th>WDF2</th>\n",
       "      <th>AWND</th>\n",
       "      <th>WSF2</th>\n",
       "    </tr>\n",
       "  </thead>\n",
       "  <tbody>\n",
       "    <tr>\n",
       "      <th>0</th>\n",
       "      <td>270.0</td>\n",
       "      <td>1.12</td>\n",
       "      <td>8.9</td>\n",
       "    </tr>\n",
       "  </tbody>\n",
       "</table>\n",
       "</div>"
      ],
      "text/plain": [
       "    WDF2  AWND  WSF2\n",
       "0  270.0  1.12   8.9"
      ]
     },
     "execution_count": 29,
     "metadata": {},
     "output_type": "execute_result"
    }
   ],
   "source": [
    "data.loc[:,[\"WDF2\",\"AWND\",\"WSF2\"]].mode()"
   ]
  },
  {
   "cell_type": "code",
   "execution_count": 30,
   "id": "7dd878c1",
   "metadata": {},
   "outputs": [],
   "source": [
    "nan_WDF2 = (data[\"WDF2\"].isnull()).index[(data[\"WDF2\"].isnull()).values]  ## filling mode value at missing cells\n",
    "data.loc[nan_WDF2,\"WDF2\"] = [data.loc[:,\"WDF2\"].mode()]\n",
    "\n",
    "\n",
    "nan_AWND = (data[\"AWND\"].isnull()).index[(data[\"AWND\"].isnull()).values]## filling mode value at missing cells\n",
    "data.loc[nan_AWND,\"AWND\"] = [data.loc[:,\"AWND\"].mode()]\n",
    "\n",
    "\n",
    "nan_WSF2 = (data[\"WSF2\"].isnull()).index[(data[\"WSF2\"].isnull()).values]## filling mode value at missing cells\n",
    "data.loc[nan_WSF5,\"WSF2\"] = [data.loc[:,\"WSF2\"].mode()]"
   ]
  },
  {
   "cell_type": "code",
   "execution_count": 31,
   "id": "54831cc9",
   "metadata": {},
   "outputs": [
    {
     "data": {
      "text/plain": [
       "STATION    0\n",
       "NAME       0\n",
       "DATE       0\n",
       "AWND       0\n",
       "PRCP       0\n",
       "TMAX       0\n",
       "TMIN       0\n",
       "WDF2       0\n",
       "WDF5       0\n",
       "WSF2       0\n",
       "WSF5       0\n",
       "dtype: int64"
      ]
     },
     "execution_count": 31,
     "metadata": {},
     "output_type": "execute_result"
    }
   ],
   "source": [
    " data.isnull().sum().sort_values(ascending = False)"
   ]
  },
  {
   "cell_type": "markdown",
   "id": "8608ea44",
   "metadata": {},
   "source": [
    "#### Now our data is free of missing values"
   ]
  },
  {
   "cell_type": "markdown",
   "id": "74888d51",
   "metadata": {},
   "source": [
    "### feature selection for predictions by chi-square method (we will select the feature with high chi square value and low p value, that implies output depends on that feature more) "
   ]
  },
  {
   "cell_type": "code",
   "execution_count": 32,
   "id": "dbafdb0c",
   "metadata": {},
   "outputs": [],
   "source": [
    "y_train1 = data[\"PRCP\"]\n",
    "data.drop(columns= [\"PRCP\",\"STATION\",\"NAME\",\"DATE\"],inplace = True)"
   ]
  },
  {
   "cell_type": "markdown",
   "id": "ca7f8c87",
   "metadata": {},
   "source": [
    "#### above we have dropped STATION and NAME columns also as it is same for all data(p value = 0)"
   ]
  },
  {
   "cell_type": "markdown",
   "id": "06b663b5",
   "metadata": {},
   "source": [
    "### label encodig data for chi-square implementation and for further ML implementation "
   ]
  },
  {
   "cell_type": "code",
   "execution_count": 33,
   "id": "9f03f45f",
   "metadata": {},
   "outputs": [],
   "source": [
    "label_encoder = LabelEncoder()\n",
    "#data[\"STATION\"] = label_encoder.fit_transform(data[\"STATION\"])\n",
    "#data[\"NAME\"] = label_encoder.fit_transform(data[\"NAME\"])\n",
    "#data[\"DATE\"] = label_encoder.fit_transform(data[\"DATE\"])"
   ]
  },
  {
   "cell_type": "code",
   "execution_count": 34,
   "id": "5b81a11e",
   "metadata": {},
   "outputs": [
    {
     "data": {
      "text/html": [
       "<div>\n",
       "<style scoped>\n",
       "    .dataframe tbody tr th:only-of-type {\n",
       "        vertical-align: middle;\n",
       "    }\n",
       "\n",
       "    .dataframe tbody tr th {\n",
       "        vertical-align: top;\n",
       "    }\n",
       "\n",
       "    .dataframe thead th {\n",
       "        text-align: right;\n",
       "    }\n",
       "</style>\n",
       "<table border=\"1\" class=\"dataframe\">\n",
       "  <thead>\n",
       "    <tr style=\"text-align: right;\">\n",
       "      <th></th>\n",
       "      <th>AWND</th>\n",
       "      <th>TMAX</th>\n",
       "      <th>TMIN</th>\n",
       "      <th>WDF2</th>\n",
       "      <th>WDF5</th>\n",
       "      <th>WSF2</th>\n",
       "      <th>WSF5</th>\n",
       "    </tr>\n",
       "  </thead>\n",
       "  <tbody>\n",
       "    <tr>\n",
       "      <th>0</th>\n",
       "      <td>2.46</td>\n",
       "      <td>64</td>\n",
       "      <td>43</td>\n",
       "      <td>10.0</td>\n",
       "      <td>30.0</td>\n",
       "      <td>8.1</td>\n",
       "      <td>11.0</td>\n",
       "    </tr>\n",
       "    <tr>\n",
       "      <th>1</th>\n",
       "      <td>2.01</td>\n",
       "      <td>65</td>\n",
       "      <td>47</td>\n",
       "      <td>270.0</td>\n",
       "      <td>30.0</td>\n",
       "      <td>6.0</td>\n",
       "      <td>8.9</td>\n",
       "    </tr>\n",
       "    <tr>\n",
       "      <th>2</th>\n",
       "      <td>0.67</td>\n",
       "      <td>62</td>\n",
       "      <td>44</td>\n",
       "      <td>150.0</td>\n",
       "      <td>150.0</td>\n",
       "      <td>10.1</td>\n",
       "      <td>14.1</td>\n",
       "    </tr>\n",
       "    <tr>\n",
       "      <th>3</th>\n",
       "      <td>2.24</td>\n",
       "      <td>62</td>\n",
       "      <td>44</td>\n",
       "      <td>280.0</td>\n",
       "      <td>340.0</td>\n",
       "      <td>8.1</td>\n",
       "      <td>16.1</td>\n",
       "    </tr>\n",
       "    <tr>\n",
       "      <th>4</th>\n",
       "      <td>1.12</td>\n",
       "      <td>60</td>\n",
       "      <td>46</td>\n",
       "      <td>90.0</td>\n",
       "      <td>100.0</td>\n",
       "      <td>6.0</td>\n",
       "      <td>10.1</td>\n",
       "    </tr>\n",
       "    <tr>\n",
       "      <th>...</th>\n",
       "      <td>...</td>\n",
       "      <td>...</td>\n",
       "      <td>...</td>\n",
       "      <td>...</td>\n",
       "      <td>...</td>\n",
       "      <td>...</td>\n",
       "      <td>...</td>\n",
       "    </tr>\n",
       "    <tr>\n",
       "      <th>3315</th>\n",
       "      <td>5.82</td>\n",
       "      <td>57</td>\n",
       "      <td>52</td>\n",
       "      <td>80.0</td>\n",
       "      <td>90.0</td>\n",
       "      <td>10.1</td>\n",
       "      <td>15.0</td>\n",
       "    </tr>\n",
       "    <tr>\n",
       "      <th>3316</th>\n",
       "      <td>1.34</td>\n",
       "      <td>73</td>\n",
       "      <td>61</td>\n",
       "      <td>270.0</td>\n",
       "      <td>280.0</td>\n",
       "      <td>10.1</td>\n",
       "      <td>16.1</td>\n",
       "    </tr>\n",
       "    <tr>\n",
       "      <th>3317</th>\n",
       "      <td>3.58</td>\n",
       "      <td>66</td>\n",
       "      <td>52</td>\n",
       "      <td>270.0</td>\n",
       "      <td>270.0</td>\n",
       "      <td>10.1</td>\n",
       "      <td>19.9</td>\n",
       "    </tr>\n",
       "    <tr>\n",
       "      <th>3318</th>\n",
       "      <td>2.68</td>\n",
       "      <td>72</td>\n",
       "      <td>56</td>\n",
       "      <td>270.0</td>\n",
       "      <td>280.0</td>\n",
       "      <td>8.9</td>\n",
       "      <td>17.0</td>\n",
       "    </tr>\n",
       "    <tr>\n",
       "      <th>3319</th>\n",
       "      <td>0.22</td>\n",
       "      <td>67</td>\n",
       "      <td>60</td>\n",
       "      <td>270.0</td>\n",
       "      <td>280.0</td>\n",
       "      <td>6.9</td>\n",
       "      <td>11.0</td>\n",
       "    </tr>\n",
       "  </tbody>\n",
       "</table>\n",
       "<p>3320 rows × 7 columns</p>\n",
       "</div>"
      ],
      "text/plain": [
       "      AWND  TMAX  TMIN   WDF2   WDF5  WSF2  WSF5\n",
       "0     2.46    64    43   10.0   30.0   8.1  11.0\n",
       "1     2.01    65    47  270.0   30.0   6.0   8.9\n",
       "2     0.67    62    44  150.0  150.0  10.1  14.1\n",
       "3     2.24    62    44  280.0  340.0   8.1  16.1\n",
       "4     1.12    60    46   90.0  100.0   6.0  10.1\n",
       "...    ...   ...   ...    ...    ...   ...   ...\n",
       "3315  5.82    57    52   80.0   90.0  10.1  15.0\n",
       "3316  1.34    73    61  270.0  280.0  10.1  16.1\n",
       "3317  3.58    66    52  270.0  270.0  10.1  19.9\n",
       "3318  2.68    72    56  270.0  280.0   8.9  17.0\n",
       "3319  0.22    67    60  270.0  280.0   6.9  11.0\n",
       "\n",
       "[3320 rows x 7 columns]"
      ]
     },
     "execution_count": 34,
     "metadata": {},
     "output_type": "execute_result"
    }
   ],
   "source": [
    "data"
   ]
  },
  {
   "cell_type": "markdown",
   "id": "5c7c5e80",
   "metadata": {},
   "source": [
    "#### visual of data after laber encoding"
   ]
  },
  {
   "cell_type": "code",
   "execution_count": 35,
   "id": "c2130889",
   "metadata": {},
   "outputs": [],
   "source": [
    "chi_sq_val = chi2(data,y_train1)"
   ]
  },
  {
   "cell_type": "code",
   "execution_count": 36,
   "id": "a5b43884",
   "metadata": {},
   "outputs": [
    {
     "data": {
      "text/plain": [
       "(array([  397.32280701,  1876.83688503,   328.71642271, 13784.40873225,\n",
       "        10930.59753004,   207.95195215,   527.31580615]),\n",
       " array([2.10732125e-088, 0.00000000e+000, 1.82959022e-073, 0.00000000e+000,\n",
       "        0.00000000e+000, 3.84327974e-047, 1.08370861e-116]))"
      ]
     },
     "execution_count": 36,
     "metadata": {},
     "output_type": "execute_result"
    }
   ],
   "source": [
    "chi_sq_val"
   ]
  },
  {
   "cell_type": "markdown",
   "id": "fbfc2045",
   "metadata": {},
   "source": [
    "#### 2nd array shows p value"
   ]
  },
  {
   "cell_type": "code",
   "execution_count": 37,
   "id": "427d8aa1",
   "metadata": {},
   "outputs": [],
   "source": [
    "p_values = pd.Series(chi_sq_val[1],index = data.columns)\n",
    "p_values.sort_values(ascending = False , inplace = True)"
   ]
  },
  {
   "cell_type": "code",
   "execution_count": 38,
   "id": "0703ab75",
   "metadata": {},
   "outputs": [
    {
     "data": {
      "text/plain": [
       "WSF2     3.843280e-47\n",
       "TMIN     1.829590e-73\n",
       "AWND     2.107321e-88\n",
       "WSF5    1.083709e-116\n",
       "TMAX     0.000000e+00\n",
       "WDF2     0.000000e+00\n",
       "WDF5     0.000000e+00\n",
       "dtype: float64"
      ]
     },
     "execution_count": 38,
     "metadata": {},
     "output_type": "execute_result"
    }
   ],
   "source": [
    "p_values"
   ]
  },
  {
   "cell_type": "code",
   "execution_count": 39,
   "id": "2e60255e",
   "metadata": {},
   "outputs": [
    {
     "data": {
      "text/plain": [
       "<AxesSubplot:>"
      ]
     },
     "execution_count": 39,
     "metadata": {},
     "output_type": "execute_result"
    },
    {
     "data": {
      "image/png": "[encoded data removed]",
      "text/plain": [
       "<Figure size 432x288 with 1 Axes>"
      ]
     },
     "metadata": {
      "needs_background": "light"
     },
     "output_type": "display_data"
    }
   ],
   "source": [
    "p_values.plot.bar()"
   ]
  },
  {
   "cell_type": "markdown",
   "id": "e241ee04",
   "metadata": {},
   "source": [
    "#### now we are dropping WSF2 feature "
   ]
  },
  {
   "cell_type": "code",
   "execution_count": 40,
   "id": "939ed653",
   "metadata": {},
   "outputs": [],
   "source": [
    "data.drop(columns= [\"WSF2\"],inplace = True)"
   ]
  },
  {
   "cell_type": "markdown",
   "id": "aa6d257c",
   "metadata": {},
   "source": [
    "## Training model on 7 features "
   ]
  },
  {
   "cell_type": "code",
   "execution_count": 41,
   "id": "724cfb9d",
   "metadata": {},
   "outputs": [],
   "source": [
    "# data is input feature df (training)\n",
    "# y_train is output(training)\n",
    "#x_test,y_test "
   ]
  },
  {
   "cell_type": "code",
   "execution_count": 42,
   "id": "a194c676",
   "metadata": {},
   "outputs": [],
   "source": [
    "data.loc[:,[\"TMAX\",\"TMIN\"]] = data.loc[:,[\"TMAX\",\"TMIN\"]].astype(float) "
   ]
  },
  {
   "cell_type": "code",
   "execution_count": 43,
   "id": "d78cb5ca",
   "metadata": {},
   "outputs": [],
   "source": [
    "#normalizing data between 0 and 1 by min max technique \n",
    "for x in data.columns:\n",
    "    data[x] = (data[x]-data[x].min())/data[x].max()-data[x].min()\n"
   ]
  },
  {
   "cell_type": "code",
   "execution_count": 44,
   "id": "a4ed57ec",
   "metadata": {},
   "outputs": [],
   "source": [
    "data[\"y\"] = y_train1"
   ]
  },
  {
   "cell_type": "code",
   "execution_count": 45,
   "id": "a6abe9c6",
   "metadata": {},
   "outputs": [
    {
     "data": {
      "text/html": [
       "<div>\n",
       "<style scoped>\n",
       "    .dataframe tbody tr th:only-of-type {\n",
       "        vertical-align: middle;\n",
       "    }\n",
       "\n",
       "    .dataframe tbody tr th {\n",
       "        vertical-align: top;\n",
       "    }\n",
       "\n",
       "    .dataframe thead th {\n",
       "        text-align: right;\n",
       "    }\n",
       "</style>\n",
       "<table border=\"1\" class=\"dataframe\">\n",
       "  <thead>\n",
       "    <tr style=\"text-align: right;\">\n",
       "      <th></th>\n",
       "      <th>AWND</th>\n",
       "      <th>TMAX</th>\n",
       "      <th>TMIN</th>\n",
       "      <th>WDF2</th>\n",
       "      <th>WDF5</th>\n",
       "      <th>WSF5</th>\n",
       "      <th>y</th>\n",
       "    </tr>\n",
       "  </thead>\n",
       "  <tbody>\n",
       "    <tr>\n",
       "      <th>0</th>\n",
       "      <td>0.305590</td>\n",
       "      <td>-51.891892</td>\n",
       "      <td>-37.936709</td>\n",
       "      <td>-10.000000</td>\n",
       "      <td>-9.944444</td>\n",
       "      <td>-5.852941</td>\n",
       "      <td>0.0</td>\n",
       "    </tr>\n",
       "    <tr>\n",
       "      <th>1</th>\n",
       "      <td>0.249689</td>\n",
       "      <td>-51.882883</td>\n",
       "      <td>-37.886076</td>\n",
       "      <td>-9.277778</td>\n",
       "      <td>-9.944444</td>\n",
       "      <td>-5.914706</td>\n",
       "      <td>0.0</td>\n",
       "    </tr>\n",
       "    <tr>\n",
       "      <th>2</th>\n",
       "      <td>0.083230</td>\n",
       "      <td>-51.909910</td>\n",
       "      <td>-37.924051</td>\n",
       "      <td>-9.611111</td>\n",
       "      <td>-9.611111</td>\n",
       "      <td>-5.761765</td>\n",
       "      <td>0.0</td>\n",
       "    </tr>\n",
       "    <tr>\n",
       "      <th>3</th>\n",
       "      <td>0.278261</td>\n",
       "      <td>-51.909910</td>\n",
       "      <td>-37.924051</td>\n",
       "      <td>-9.250000</td>\n",
       "      <td>-9.083333</td>\n",
       "      <td>-5.702941</td>\n",
       "      <td>0.0</td>\n",
       "    </tr>\n",
       "    <tr>\n",
       "      <th>4</th>\n",
       "      <td>0.139130</td>\n",
       "      <td>-51.927928</td>\n",
       "      <td>-37.898734</td>\n",
       "      <td>-9.777778</td>\n",
       "      <td>-9.750000</td>\n",
       "      <td>-5.879412</td>\n",
       "      <td>0.0</td>\n",
       "    </tr>\n",
       "    <tr>\n",
       "      <th>...</th>\n",
       "      <td>...</td>\n",
       "      <td>...</td>\n",
       "      <td>...</td>\n",
       "      <td>...</td>\n",
       "      <td>...</td>\n",
       "      <td>...</td>\n",
       "      <td>...</td>\n",
       "    </tr>\n",
       "    <tr>\n",
       "      <th>3315</th>\n",
       "      <td>0.722981</td>\n",
       "      <td>-51.954955</td>\n",
       "      <td>-37.822785</td>\n",
       "      <td>-9.805556</td>\n",
       "      <td>-9.777778</td>\n",
       "      <td>-5.735294</td>\n",
       "      <td>1.0</td>\n",
       "    </tr>\n",
       "    <tr>\n",
       "      <th>3316</th>\n",
       "      <td>0.166460</td>\n",
       "      <td>-51.810811</td>\n",
       "      <td>-37.708861</td>\n",
       "      <td>-9.277778</td>\n",
       "      <td>-9.250000</td>\n",
       "      <td>-5.702941</td>\n",
       "      <td>1.0</td>\n",
       "    </tr>\n",
       "    <tr>\n",
       "      <th>3317</th>\n",
       "      <td>0.444720</td>\n",
       "      <td>-51.873874</td>\n",
       "      <td>-37.822785</td>\n",
       "      <td>-9.277778</td>\n",
       "      <td>-9.277778</td>\n",
       "      <td>-5.591176</td>\n",
       "      <td>1.0</td>\n",
       "    </tr>\n",
       "    <tr>\n",
       "      <th>3318</th>\n",
       "      <td>0.332919</td>\n",
       "      <td>-51.819820</td>\n",
       "      <td>-37.772152</td>\n",
       "      <td>-9.277778</td>\n",
       "      <td>-9.250000</td>\n",
       "      <td>-5.676471</td>\n",
       "      <td>1.0</td>\n",
       "    </tr>\n",
       "    <tr>\n",
       "      <th>3319</th>\n",
       "      <td>0.027329</td>\n",
       "      <td>-51.864865</td>\n",
       "      <td>-37.721519</td>\n",
       "      <td>-9.277778</td>\n",
       "      <td>-9.250000</td>\n",
       "      <td>-5.852941</td>\n",
       "      <td>1.0</td>\n",
       "    </tr>\n",
       "  </tbody>\n",
       "</table>\n",
       "<p>3320 rows × 7 columns</p>\n",
       "</div>"
      ],
      "text/plain": [
       "          AWND       TMAX       TMIN       WDF2      WDF5      WSF5    y\n",
       "0     0.305590 -51.891892 -37.936709 -10.000000 -9.944444 -5.852941  0.0\n",
       "1     0.249689 -51.882883 -37.886076  -9.277778 -9.944444 -5.914706  0.0\n",
       "2     0.083230 -51.909910 -37.924051  -9.611111 -9.611111 -5.761765  0.0\n",
       "3     0.278261 -51.909910 -37.924051  -9.250000 -9.083333 -5.702941  0.0\n",
       "4     0.139130 -51.927928 -37.898734  -9.777778 -9.750000 -5.879412  0.0\n",
       "...        ...        ...        ...        ...       ...       ...  ...\n",
       "3315  0.722981 -51.954955 -37.822785  -9.805556 -9.777778 -5.735294  1.0\n",
       "3316  0.166460 -51.810811 -37.708861  -9.277778 -9.250000 -5.702941  1.0\n",
       "3317  0.444720 -51.873874 -37.822785  -9.277778 -9.277778 -5.591176  1.0\n",
       "3318  0.332919 -51.819820 -37.772152  -9.277778 -9.250000 -5.676471  1.0\n",
       "3319  0.027329 -51.864865 -37.721519  -9.277778 -9.250000 -5.852941  1.0\n",
       "\n",
       "[3320 rows x 7 columns]"
      ]
     },
     "execution_count": 45,
     "metadata": {},
     "output_type": "execute_result"
    }
   ],
   "source": [
    "ind = data.index\n",
    "data\n"
   ]
  },
  {
   "cell_type": "code",
   "execution_count": 46,
   "id": "dac7c345",
   "metadata": {},
   "outputs": [
    {
     "data": {
      "text/html": [
       "<div>\n",
       "<style scoped>\n",
       "    .dataframe tbody tr th:only-of-type {\n",
       "        vertical-align: middle;\n",
       "    }\n",
       "\n",
       "    .dataframe tbody tr th {\n",
       "        vertical-align: top;\n",
       "    }\n",
       "\n",
       "    .dataframe thead th {\n",
       "        text-align: right;\n",
       "    }\n",
       "</style>\n",
       "<table border=\"1\" class=\"dataframe\">\n",
       "  <thead>\n",
       "    <tr style=\"text-align: right;\">\n",
       "      <th></th>\n",
       "      <th>AWND</th>\n",
       "      <th>TMAX</th>\n",
       "      <th>TMIN</th>\n",
       "      <th>WDF2</th>\n",
       "      <th>WDF5</th>\n",
       "      <th>WSF5</th>\n",
       "      <th>y</th>\n",
       "    </tr>\n",
       "  </thead>\n",
       "  <tbody>\n",
       "    <tr>\n",
       "      <th>0</th>\n",
       "      <td>0.166460</td>\n",
       "      <td>-51.819820</td>\n",
       "      <td>-37.721519</td>\n",
       "      <td>-9.277778</td>\n",
       "      <td>-9.277778</td>\n",
       "      <td>-5.676471</td>\n",
       "      <td>0.0</td>\n",
       "    </tr>\n",
       "    <tr>\n",
       "      <th>1</th>\n",
       "      <td>0.110559</td>\n",
       "      <td>-51.927928</td>\n",
       "      <td>-37.784810</td>\n",
       "      <td>-9.750000</td>\n",
       "      <td>-9.777778</td>\n",
       "      <td>-5.914706</td>\n",
       "      <td>1.0</td>\n",
       "    </tr>\n",
       "    <tr>\n",
       "      <th>2</th>\n",
       "      <td>0.139130</td>\n",
       "      <td>-51.720721</td>\n",
       "      <td>-37.670886</td>\n",
       "      <td>-9.305556</td>\n",
       "      <td>-9.277778</td>\n",
       "      <td>-5.761765</td>\n",
       "      <td>0.0</td>\n",
       "    </tr>\n",
       "    <tr>\n",
       "      <th>3</th>\n",
       "      <td>0.555280</td>\n",
       "      <td>-51.936937</td>\n",
       "      <td>-37.848101</td>\n",
       "      <td>-9.277778</td>\n",
       "      <td>-9.250000</td>\n",
       "      <td>-5.235294</td>\n",
       "      <td>1.0</td>\n",
       "    </tr>\n",
       "    <tr>\n",
       "      <th>4</th>\n",
       "      <td>0.139130</td>\n",
       "      <td>-51.702703</td>\n",
       "      <td>-37.670886</td>\n",
       "      <td>-9.250000</td>\n",
       "      <td>-9.305556</td>\n",
       "      <td>-5.735294</td>\n",
       "      <td>0.0</td>\n",
       "    </tr>\n",
       "    <tr>\n",
       "      <th>...</th>\n",
       "      <td>...</td>\n",
       "      <td>...</td>\n",
       "      <td>...</td>\n",
       "      <td>...</td>\n",
       "      <td>...</td>\n",
       "      <td>...</td>\n",
       "      <td>...</td>\n",
       "    </tr>\n",
       "    <tr>\n",
       "      <th>3315</th>\n",
       "      <td>0.139130</td>\n",
       "      <td>-51.603604</td>\n",
       "      <td>-37.683544</td>\n",
       "      <td>-9.250000</td>\n",
       "      <td>-9.250000</td>\n",
       "      <td>-5.761765</td>\n",
       "      <td>0.0</td>\n",
       "    </tr>\n",
       "    <tr>\n",
       "      <th>3316</th>\n",
       "      <td>0.332919</td>\n",
       "      <td>-51.837838</td>\n",
       "      <td>-37.759494</td>\n",
       "      <td>-9.305556</td>\n",
       "      <td>-9.305556</td>\n",
       "      <td>-5.702941</td>\n",
       "      <td>0.0</td>\n",
       "    </tr>\n",
       "    <tr>\n",
       "      <th>3317</th>\n",
       "      <td>0.278261</td>\n",
       "      <td>-51.927928</td>\n",
       "      <td>-37.835443</td>\n",
       "      <td>-9.305556</td>\n",
       "      <td>-9.277778</td>\n",
       "      <td>-5.735294</td>\n",
       "      <td>1.0</td>\n",
       "    </tr>\n",
       "    <tr>\n",
       "      <th>3318</th>\n",
       "      <td>0.139130</td>\n",
       "      <td>-51.801802</td>\n",
       "      <td>-37.797468</td>\n",
       "      <td>-9.250000</td>\n",
       "      <td>-9.250000</td>\n",
       "      <td>-5.644118</td>\n",
       "      <td>0.0</td>\n",
       "    </tr>\n",
       "    <tr>\n",
       "      <th>3319</th>\n",
       "      <td>0.583851</td>\n",
       "      <td>-51.918919</td>\n",
       "      <td>-37.835443</td>\n",
       "      <td>-9.805556</td>\n",
       "      <td>-9.694444</td>\n",
       "      <td>-5.558824</td>\n",
       "      <td>1.0</td>\n",
       "    </tr>\n",
       "  </tbody>\n",
       "</table>\n",
       "<p>3320 rows × 7 columns</p>\n",
       "</div>"
      ],
      "text/plain": [
       "          AWND       TMAX       TMIN      WDF2      WDF5      WSF5    y\n",
       "0     0.166460 -51.819820 -37.721519 -9.277778 -9.277778 -5.676471  0.0\n",
       "1     0.110559 -51.927928 -37.784810 -9.750000 -9.777778 -5.914706  1.0\n",
       "2     0.139130 -51.720721 -37.670886 -9.305556 -9.277778 -5.761765  0.0\n",
       "3     0.555280 -51.936937 -37.848101 -9.277778 -9.250000 -5.235294  1.0\n",
       "4     0.139130 -51.702703 -37.670886 -9.250000 -9.305556 -5.735294  0.0\n",
       "...        ...        ...        ...       ...       ...       ...  ...\n",
       "3315  0.139130 -51.603604 -37.683544 -9.250000 -9.250000 -5.761765  0.0\n",
       "3316  0.332919 -51.837838 -37.759494 -9.305556 -9.305556 -5.702941  0.0\n",
       "3317  0.278261 -51.927928 -37.835443 -9.305556 -9.277778 -5.735294  1.0\n",
       "3318  0.139130 -51.801802 -37.797468 -9.250000 -9.250000 -5.644118  0.0\n",
       "3319  0.583851 -51.918919 -37.835443 -9.805556 -9.694444 -5.558824  1.0\n",
       "\n",
       "[3320 rows x 7 columns]"
      ]
     },
     "execution_count": 46,
     "metadata": {},
     "output_type": "execute_result"
    }
   ],
   "source": [
    "data = shuffle(data)\n",
    "data.index = ind\n",
    "data"
   ]
  },
  {
   "cell_type": "code",
   "execution_count": 47,
   "id": "3dbff638",
   "metadata": {},
   "outputs": [
    {
     "data": {
      "text/plain": [
       "(3000, 7)"
      ]
     },
     "execution_count": 47,
     "metadata": {},
     "output_type": "execute_result"
    }
   ],
   "source": [
    "x_test = data.tail(320)\n",
    "x_train = data.drop(index = data.tail(320).index)\n",
    "\n",
    "x_train.shape"
   ]
  },
  {
   "cell_type": "code",
   "execution_count": 48,
   "id": "6c8000fe",
   "metadata": {},
   "outputs": [],
   "source": [
    "y_train = x_train[\"y\"]"
   ]
  },
  {
   "cell_type": "code",
   "execution_count": 49,
   "id": "1f034802",
   "metadata": {},
   "outputs": [],
   "source": [
    "x_train = x_train.drop(columns = \"y\")"
   ]
  },
  {
   "cell_type": "code",
   "execution_count": 50,
   "id": "3fc7190f",
   "metadata": {},
   "outputs": [],
   "source": [
    "y_test = x_test[\"y\"]\n"
   ]
  },
  {
   "cell_type": "code",
   "execution_count": 51,
   "id": "68fa2c16",
   "metadata": {},
   "outputs": [],
   "source": [
    "x_test = x_test.drop(columns = \"y\")"
   ]
  },
  {
   "cell_type": "code",
   "execution_count": 52,
   "id": "1acf9102",
   "metadata": {},
   "outputs": [
    {
     "data": {
      "text/plain": [
       "(320,)"
      ]
     },
     "execution_count": 52,
     "metadata": {},
     "output_type": "execute_result"
    }
   ],
   "source": [
    "y_test.shape"
   ]
  },
  {
   "cell_type": "markdown",
   "id": "f87f4b02",
   "metadata": {},
   "source": [
    "## implementing model on neural network (MPL Classifier)"
   ]
  },
  {
   "cell_type": "code",
   "execution_count": 53,
   "id": "b74098e1",
   "metadata": {},
   "outputs": [],
   "source": [
    "from sklearn.neural_network import MLPClassifier"
   ]
  },
  {
   "cell_type": "code",
   "execution_count": 66,
   "id": "2decb09c",
   "metadata": {},
   "outputs": [],
   "source": [
    "clf = MLPClassifier(hidden_layer_sizes = (500,400,300,200,100),max_iter = 300, activation = \"relu\", solver = \"adam\", random_state = 1) # describing model"
   ]
  },
  {
   "cell_type": "code",
   "execution_count": 67,
   "id": "09810f36",
   "metadata": {},
   "outputs": [
    {
     "data": {
      "text/plain": [
       "MLPClassifier(hidden_layer_sizes=(500, 400, 300, 200, 100), max_iter=300,\n",
       "              random_state=1)"
      ]
     },
     "execution_count": 67,
     "metadata": {},
     "output_type": "execute_result"
    }
   ],
   "source": [
    "# fitting training data\n",
    "clf.fit(x_train,y_train)"
   ]
  },
  {
   "cell_type": "code",
   "execution_count": 68,
   "id": "d385b8f8",
   "metadata": {},
   "outputs": [],
   "source": [
    "y_pred = clf.predict(x_test)"
   ]
  },
  {
   "cell_type": "code",
   "execution_count": 69,
   "id": "1cf20a60",
   "metadata": {},
   "outputs": [],
   "source": [
    "from sklearn.metrics import confusion_matrix"
   ]
  },
  {
   "cell_type": "code",
   "execution_count": 70,
   "id": "2d6c2ba4",
   "metadata": {},
   "outputs": [],
   "source": [
    "c_m = confusion_matrix(y_pred,y_test)"
   ]
  },
  {
   "cell_type": "code",
   "execution_count": 71,
   "id": "137b7d6f",
   "metadata": {},
   "outputs": [
    {
     "data": {
      "text/plain": [
       "array([[104,  41],\n",
       "       [ 52, 123]], dtype=int64)"
      ]
     },
     "execution_count": 71,
     "metadata": {},
     "output_type": "execute_result"
    }
   ],
   "source": [
    "c_m"
   ]
  },
  {
   "cell_type": "code",
   "execution_count": 72,
   "id": "2245a634",
   "metadata": {},
   "outputs": [],
   "source": [
    "acc = round(((c_m[0,0]+c_m[1,1])/c_m.sum())*100,2)"
   ]
  },
  {
   "cell_type": "code",
   "execution_count": 75,
   "id": "abac0c1f",
   "metadata": {},
   "outputs": [],
   "source": [
    "plt.style.use(\"fivethirtyeight\")\n",
    "slices = c_m.reshape(4)\n"
   ]
  },
  {
   "cell_type": "code",
   "execution_count": 83,
   "id": "b7a6f0d7",
   "metadata": {},
   "outputs": [
    {
     "data": {
      "text/plain": [
       "([<matplotlib.patches.Wedge at 0x153020dab50>,\n",
       "  <matplotlib.patches.Wedge at 0x153020bde20>,\n",
       "  <matplotlib.patches.Wedge at 0x1537b6d79d0>,\n",
       "  <matplotlib.patches.Wedge at 0x153020d2cd0>],\n",
       " [Text(-0.4342083090383411, 1.8086080682010863, 'True Positive'),\n",
       "  Text(-1.753134311609729, -0.1553064243895983, 'False Positive'),\n",
       "  Text(-0.9488836148631473, -1.482302224731599, 'False Negative'),\n",
       "  Text(1.6967096323612323, -0.7620868870756228, 'True Negative')],\n",
       " [Text(-0.24745204708636642, 1.030712124888791, '32.5 percent'),\n",
       "  Text(-0.9562550790598521, -0.08471259512159907, '12.8 percent'),\n",
       "  Text(-0.517572880834444, -0.8085284862172356, '16.2 percent'),\n",
       "  Text(0.9669420485499495, -0.43430758080653764, '38.4 percent')])"
      ]
     },
     "execution_count": 83,
     "metadata": {},
     "output_type": "execute_result"
    },
    {
     "data": {
      "image/png": "[encoded data removed]",
      "text/plain": [
       "<Figure size 432x288 with 1 Axes>"
      ]
     },
     "metadata": {},
     "output_type": "display_data"
    }
   ],
   "source": [
    "label = [\"True Positive\",\"False Positive\",\"False Negative\",\"True Negative\"]\n",
    "#colors = [\"#fafad2\", \"#f7cac9\",\"#434aa8\", \"#dab600\"]\n",
    "plt.tight_layout()\n",
    "plt.title(\"confusion matrix pie chart\\n \\n \\n\")\n",
    "plt.pie(slices, labels = label,shadow = True,autopct = \"%1.1f percent\",explode =[0.1,0,0,0.1],radius = 1.6,startangle = 45, wedgeprops = {'linewidth': 4} )"
   ]
  },
  {
   "cell_type": "code",
   "execution_count": 84,
   "id": "f712e939",
   "metadata": {},
   "outputs": [
    {
     "data": {
      "text/plain": [
       "70.94"
      ]
     },
     "execution_count": 84,
     "metadata": {},
     "output_type": "execute_result"
    }
   ],
   "source": [
    "acc"
   ]
  },
  {
   "cell_type": "code",
   "execution_count": null,
   "id": "f53571c3",
   "metadata": {},
   "outputs": [],
   "source": []
  }
 ],
 "metadata": {
  "kernelspec": {
   "display_name": "Python 3",
   "language": "python",
   "name": "python3"
  },
  "language_info": {
   "codemirror_mode": {
    "name": "ipython",
    "version": 3
   },
   "file_extension": ".py",
   "mimetype": "text/x-python",
   "name": "python",
   "nbconvert_exporter": "python",
   "pygments_lexer": "ipython3",
   "version": "3.8.8"
  }
 },
 "nbformat": 4,
 "nbformat_minor": 5
}
